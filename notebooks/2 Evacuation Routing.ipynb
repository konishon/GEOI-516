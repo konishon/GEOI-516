{
 "cells": [
  {
   "cell_type": "markdown",
   "id": "c2fe741d-6da8-42ef-ab3b-8f6394ca3d1e",
   "metadata": {},
   "source": [
    "# 1.Project Data"
   ]
  },
  {
   "cell_type": "markdown",
   "id": "652c8c6e-b29a-472e-bbc5-81b530c9c335",
   "metadata": {
    "tags": []
   },
   "source": [
    "## 1.1 Settlement Data"
   ]
  },
  {
   "cell_type": "code",
   "execution_count": 1,
   "id": "108dc400-5c6b-4830-9e8f-1ce046e0ef01",
   "metadata": {
    "tags": []
   },
   "outputs": [],
   "source": [
    "import folium\n",
    "from tqdm import tqdm\n",
    "import geopandas as gpd"
   ]
  },
  {
   "cell_type": "code",
   "execution_count": 2,
   "id": "51807732-6273-4913-a27f-4ed61dc1cc7c",
   "metadata": {
    "tags": []
   },
   "outputs": [],
   "source": [
    "\n",
    "\n",
    "# Load the GeoJSON file\n",
    "file_path = \"settlements_ktm.geojson\"\n",
    "gdf_settl = gpd.read_file(file_path)\n",
    "\n",
    "\n",
    "# # Calculate the center coordinates of the map\n",
    "# center = gdf_settl.centroid.y.mean(), gdf.centroid.x.mean()\n",
    "\n",
    "# # Create a folium map centered around Kathmandu\n",
    "# m = folium.Map(location=center, zoom_start=12)\n",
    "\n",
    "# # Add GeoJSON data to the map\n",
    "# folium.GeoJson(gdf_settl).add_to(m)\n",
    "\n",
    "# # Add markers with names to the map\n",
    "# for idx, row in gdf_settl.iterrows():\n",
    "#     name = row['SETTL_NAME']  \n",
    "#     lat, lon = row.geometry.centroid.y, row.geometry.centroid.x\n",
    "#     folium.Marker([lat, lon], popup=name).add_to(m)\n",
    "\n",
    "# # Display the map\n",
    "# m\n"
   ]
  },
  {
   "cell_type": "markdown",
   "id": "460cab52-a982-4b8b-8899-3a4bcb7c800d",
   "metadata": {
    "tags": []
   },
   "source": [
    "## 1.2 Open Space Data"
   ]
  },
  {
   "cell_type": "code",
   "execution_count": 3,
   "id": "3ceb4ddc-6b5a-40bc-9dba-4b532bccfbf7",
   "metadata": {
    "tags": []
   },
   "outputs": [],
   "source": [
    "import folium\n",
    "import geopandas as gpd\n",
    "from shapely.geometry import Point\n",
    "\n",
    "# Load the GeoJSON file\n",
    "file_path = 'open_spaces.geojson'\n",
    "gdf_open_space = gpd.read_file(file_path)\n",
    "\n",
    "# Reproject the GeoDataFrame to WGS84 (EPSG:4326)\n",
    "gdf_open_space = gdf_open_space.to_crs(epsg=4326)\n",
    "\n",
    "# Create a Folium map\n",
    "m = folium.Map(location=[27.7172, 85.3240], zoom_start=12)  # Adjust center and zoom as needed\n",
    "\n",
    "# Add GeoJSON data representing the polygons to the map\n",
    "folium.GeoJson(data=gdf_open_space, name='Polygons').add_to(m)\n",
    "\n",
    "# Calculate centroids of polygons and add them as markers\n",
    "for index, row in gdf_open_space.iterrows():\n",
    "    centroid = row['geometry'].centroid\n",
    "    folium.Marker(location=[centroid.y, centroid.x], popup=f'Centroid {index}').add_to(m)\n",
    "\n",
    "# Display the map\n",
    "m\n",
    "\n",
    "# Save the GeoDataFrame to a new GeoJSON file\n",
    "output_file = 'open_spaces_2.geojson'\n",
    "gdf_open_space.to_file(output_file, driver='GeoJSON')\n"
   ]
  },
  {
   "cell_type": "markdown",
   "id": "b49f3086-a096-4311-9ced-e4b480ffa651",
   "metadata": {},
   "source": [
    "# 2. Routing"
   ]
  },
  {
   "cell_type": "markdown",
   "id": "0055ddf5-36b6-48ff-8a6c-981ca8a0d511",
   "metadata": {},
   "source": [
    "## 2.1 Loading Network"
   ]
  },
  {
   "cell_type": "code",
   "execution_count": 4,
   "id": "60510365-cc59-4e4c-8f87-fa338a658098",
   "metadata": {
    "tags": []
   },
   "outputs": [
    {
     "name": "stdout",
     "output_type": "stream",
     "text": [
      "Graph loaded from file.\n"
     ]
    }
   ],
   "source": [
    "import osmnx as ox\n",
    "import networkx as nx\n",
    "import os \n",
    "\n",
    "def load_or_download_graph(address, filepath):\n",
    "    \"\"\"\n",
    "    Load a graph from a file if it exists, otherwise download it from OpenStreetMap.\n",
    "\n",
    "    Parameters:\n",
    "    - address (str): The address or place name to retrieve the graph for.\n",
    "    - filepath (str): The filepath to save or load the graph from.\n",
    "\n",
    "    Returns:\n",
    "    - networkx.Graph: The loaded or downloaded graph.\n",
    "    \"\"\"\n",
    "    # Check if the file exists\n",
    "    if os.path.exists(filepath):\n",
    "        # If the file exists, load the graph from the file\n",
    "        G = ox.load_graphml(filepath)\n",
    "        print(\"Graph loaded from file.\")\n",
    "    else:\n",
    "        # If the file doesn't exist, download the graph from OpenStreetMap\n",
    "        G = ox.graph_from_place(address, network_type=\"drive\")\n",
    "        # Save the graph to the specified filepath\n",
    "        ox.save_graphml(G, filepath=filepath)\n",
    "        print(\"Graph downloaded from OpenStreetMap and saved to file.\")\n",
    "    return G\n",
    "\n",
    "\n",
    "address = \"Kathmandu, Nepal\"\n",
    "filepath = \"kathmandu_lalitpur_bhaktapur.graphml\"\n",
    "G = load_or_download_graph(address, filepath)"
   ]
  },
  {
   "cell_type": "code",
   "execution_count": 5,
   "id": "c1d4e91d-2dc8-473f-b700-f947fa954f00",
   "metadata": {
    "tags": []
   },
   "outputs": [],
   "source": [
    "# impute speed on all edges missing data\n",
    "G = ox.add_edge_speeds(G)\n",
    "\n",
    "# calculate travel time (seconds) for all edges\n",
    "G = ox.add_edge_travel_times(G)"
   ]
  },
  {
   "cell_type": "code",
   "execution_count": 9,
   "id": "1ec08000-65f3-4389-99f8-cea1d37c09fe",
   "metadata": {
    "tags": []
   },
   "outputs": [
    {
     "data": {
      "text/html": [
       "<div>\n",
       "<style scoped>\n",
       "    .dataframe tbody tr th:only-of-type {\n",
       "        vertical-align: middle;\n",
       "    }\n",
       "\n",
       "    .dataframe tbody tr th {\n",
       "        vertical-align: top;\n",
       "    }\n",
       "\n",
       "    .dataframe thead th {\n",
       "        text-align: right;\n",
       "    }\n",
       "</style>\n",
       "<table border=\"1\" class=\"dataframe\">\n",
       "  <thead>\n",
       "    <tr style=\"text-align: right;\">\n",
       "      <th></th>\n",
       "      <th>length</th>\n",
       "      <th>speed_kph</th>\n",
       "      <th>travel_time</th>\n",
       "    </tr>\n",
       "    <tr>\n",
       "      <th>highway</th>\n",
       "      <th></th>\n",
       "      <th></th>\n",
       "      <th></th>\n",
       "    </tr>\n",
       "  </thead>\n",
       "  <tbody>\n",
       "    <tr>\n",
       "      <th>['primary', 'secondary']</th>\n",
       "      <td>792.8</td>\n",
       "      <td>43.0</td>\n",
       "      <td>66.4</td>\n",
       "    </tr>\n",
       "    <tr>\n",
       "      <th>['residential', 'living_street']</th>\n",
       "      <td>174.6</td>\n",
       "      <td>35.0</td>\n",
       "      <td>18.0</td>\n",
       "    </tr>\n",
       "    <tr>\n",
       "      <th>['road', 'residential']</th>\n",
       "      <td>574.6</td>\n",
       "      <td>41.5</td>\n",
       "      <td>49.8</td>\n",
       "    </tr>\n",
       "    <tr>\n",
       "      <th>['road', 'unclassified']</th>\n",
       "      <td>1439.2</td>\n",
       "      <td>41.5</td>\n",
       "      <td>124.8</td>\n",
       "    </tr>\n",
       "    <tr>\n",
       "      <th>['secondary', 'primary']</th>\n",
       "      <td>792.8</td>\n",
       "      <td>50.0</td>\n",
       "      <td>57.1</td>\n",
       "    </tr>\n",
       "    <tr>\n",
       "      <th>['secondary', 'residential']</th>\n",
       "      <td>202.2</td>\n",
       "      <td>50.0</td>\n",
       "      <td>14.6</td>\n",
       "    </tr>\n",
       "    <tr>\n",
       "      <th>['tertiary', 'residential']</th>\n",
       "      <td>480.1</td>\n",
       "      <td>58.1</td>\n",
       "      <td>29.1</td>\n",
       "    </tr>\n",
       "    <tr>\n",
       "      <th>['tertiary', 'secondary']</th>\n",
       "      <td>90.9</td>\n",
       "      <td>60.0</td>\n",
       "      <td>5.4</td>\n",
       "    </tr>\n",
       "    <tr>\n",
       "      <th>['unclassified', 'living_street']</th>\n",
       "      <td>216.3</td>\n",
       "      <td>28.9</td>\n",
       "      <td>29.0</td>\n",
       "    </tr>\n",
       "    <tr>\n",
       "      <th>['unclassified', 'residential']</th>\n",
       "      <td>393.0</td>\n",
       "      <td>31.7</td>\n",
       "      <td>44.9</td>\n",
       "    </tr>\n",
       "    <tr>\n",
       "      <th>['unclassified', 'road']</th>\n",
       "      <td>1439.2</td>\n",
       "      <td>31.9</td>\n",
       "      <td>162.4</td>\n",
       "    </tr>\n",
       "    <tr>\n",
       "      <th>['unclassified', 'secondary']</th>\n",
       "      <td>2421.9</td>\n",
       "      <td>31.9</td>\n",
       "      <td>273.3</td>\n",
       "    </tr>\n",
       "    <tr>\n",
       "      <th>['unclassified', 'tertiary']</th>\n",
       "      <td>607.6</td>\n",
       "      <td>32.7</td>\n",
       "      <td>68.5</td>\n",
       "    </tr>\n",
       "    <tr>\n",
       "      <th>living_street</th>\n",
       "      <td>81.2</td>\n",
       "      <td>21.1</td>\n",
       "      <td>13.8</td>\n",
       "    </tr>\n",
       "    <tr>\n",
       "      <th>primary</th>\n",
       "      <td>142.2</td>\n",
       "      <td>43.0</td>\n",
       "      <td>12.0</td>\n",
       "    </tr>\n",
       "    <tr>\n",
       "      <th>primary_link</th>\n",
       "      <td>34.4</td>\n",
       "      <td>41.5</td>\n",
       "      <td>3.0</td>\n",
       "    </tr>\n",
       "    <tr>\n",
       "      <th>residential</th>\n",
       "      <td>83.8</td>\n",
       "      <td>34.9</td>\n",
       "      <td>8.7</td>\n",
       "    </tr>\n",
       "    <tr>\n",
       "      <th>road</th>\n",
       "      <td>135.5</td>\n",
       "      <td>41.5</td>\n",
       "      <td>11.8</td>\n",
       "    </tr>\n",
       "    <tr>\n",
       "      <th>secondary</th>\n",
       "      <td>145.7</td>\n",
       "      <td>49.5</td>\n",
       "      <td>10.8</td>\n",
       "    </tr>\n",
       "    <tr>\n",
       "      <th>secondary_link</th>\n",
       "      <td>43.2</td>\n",
       "      <td>41.5</td>\n",
       "      <td>3.7</td>\n",
       "    </tr>\n",
       "    <tr>\n",
       "      <th>tertiary</th>\n",
       "      <td>169.3</td>\n",
       "      <td>59.1</td>\n",
       "      <td>10.6</td>\n",
       "    </tr>\n",
       "    <tr>\n",
       "      <th>tertiary_link</th>\n",
       "      <td>72.4</td>\n",
       "      <td>41.5</td>\n",
       "      <td>6.3</td>\n",
       "    </tr>\n",
       "    <tr>\n",
       "      <th>trunk</th>\n",
       "      <td>141.1</td>\n",
       "      <td>49.8</td>\n",
       "      <td>10.1</td>\n",
       "    </tr>\n",
       "    <tr>\n",
       "      <th>trunk_link</th>\n",
       "      <td>54.2</td>\n",
       "      <td>41.5</td>\n",
       "      <td>4.7</td>\n",
       "    </tr>\n",
       "    <tr>\n",
       "      <th>unclassified</th>\n",
       "      <td>247.1</td>\n",
       "      <td>31.9</td>\n",
       "      <td>27.9</td>\n",
       "    </tr>\n",
       "  </tbody>\n",
       "</table>\n",
       "</div>"
      ],
      "text/plain": [
       "                                   length  speed_kph  travel_time\n",
       "highway                                                          \n",
       "['primary', 'secondary']            792.8       43.0         66.4\n",
       "['residential', 'living_street']    174.6       35.0         18.0\n",
       "['road', 'residential']             574.6       41.5         49.8\n",
       "['road', 'unclassified']           1439.2       41.5        124.8\n",
       "['secondary', 'primary']            792.8       50.0         57.1\n",
       "['secondary', 'residential']        202.2       50.0         14.6\n",
       "['tertiary', 'residential']         480.1       58.1         29.1\n",
       "['tertiary', 'secondary']            90.9       60.0          5.4\n",
       "['unclassified', 'living_street']   216.3       28.9         29.0\n",
       "['unclassified', 'residential']     393.0       31.7         44.9\n",
       "['unclassified', 'road']           1439.2       31.9        162.4\n",
       "['unclassified', 'secondary']      2421.9       31.9        273.3\n",
       "['unclassified', 'tertiary']        607.6       32.7         68.5\n",
       "living_street                        81.2       21.1         13.8\n",
       "primary                             142.2       43.0         12.0\n",
       "primary_link                         34.4       41.5          3.0\n",
       "residential                          83.8       34.9          8.7\n",
       "road                                135.5       41.5         11.8\n",
       "secondary                           145.7       49.5         10.8\n",
       "secondary_link                       43.2       41.5          3.7\n",
       "tertiary                            169.3       59.1         10.6\n",
       "tertiary_link                        72.4       41.5          6.3\n",
       "trunk                               141.1       49.8         10.1\n",
       "trunk_link                           54.2       41.5          4.7\n",
       "unclassified                        247.1       31.9         27.9"
      ]
     },
     "execution_count": 9,
     "metadata": {},
     "output_type": "execute_result"
    }
   ],
   "source": [
    "# see mean speed/time values by road type\n",
    "edges = ox.graph_to_gdfs(G, nodes=False)\n",
    "edges[\"highway\"] = edges[\"highway\"].astype(str)\n",
    "edges.groupby(\"highway\")[[\"length\", \"speed_kph\", \"travel_time\"]].mean().round(1)"
   ]
  },
  {
   "cell_type": "code",
   "execution_count": null,
   "id": "1824b103-1e12-480d-b9a5-00056f0240fe",
   "metadata": {
    "tags": []
   },
   "outputs": [],
   "source": []
  },
  {
   "cell_type": "code",
   "execution_count": 103,
   "id": "800569c3-6e6c-478c-9028-905434ac14bc",
   "metadata": {
    "tags": []
   },
   "outputs": [
    {
     "name": "stdout",
     "output_type": "stream",
     "text": [
      "Routing for settlement Bansbari. Please wait...\n"
     ]
    },
    {
     "name": "stderr",
     "output_type": "stream",
     "text": [
      "Calculating Routes for Bansbari: 100%|██████████| 83/83 [00:46<00:00,  1.78it/s]\n"
     ]
    },
    {
     "name": "stdout",
     "output_type": "stream",
     "text": [
      "Routing for settlement Basundhara. Please wait...\n"
     ]
    },
    {
     "name": "stderr",
     "output_type": "stream",
     "text": [
      "Calculating Routes for Basundhara: 100%|████████| 83/83 [00:43<00:00,  1.89it/s]\n"
     ]
    },
    {
     "name": "stdout",
     "output_type": "stream",
     "text": [
      "Routing for settlement Pipalbot. Please wait...\n"
     ]
    },
    {
     "name": "stderr",
     "output_type": "stream",
     "text": [
      "Calculating Routes for Pipalbot: 100%|██████████| 83/83 [00:43<00:00,  1.93it/s]\n"
     ]
    },
    {
     "name": "stdout",
     "output_type": "stream",
     "text": [
      "Routing for settlement Gairigaun. Please wait...\n"
     ]
    },
    {
     "name": "stderr",
     "output_type": "stream",
     "text": [
      "Calculating Routes for Gairigaun: 100%|█████████| 83/83 [00:42<00:00,  1.93it/s]\n"
     ]
    },
    {
     "name": "stdout",
     "output_type": "stream",
     "text": [
      "Routing for settlement Lohasal. Please wait...\n"
     ]
    },
    {
     "name": "stderr",
     "output_type": "stream",
     "text": [
      "Calculating Routes for Lohasal: 100%|███████████| 83/83 [00:44<00:00,  1.85it/s]\n"
     ]
    },
    {
     "name": "stdout",
     "output_type": "stream",
     "text": [
      "Routing for settlement Maharajganj. Please wait...\n"
     ]
    },
    {
     "name": "stderr",
     "output_type": "stream",
     "text": [
      "Calculating Routes for Maharajganj: 100%|███████| 83/83 [00:43<00:00,  1.90it/s]\n"
     ]
    },
    {
     "name": "stdout",
     "output_type": "stream",
     "text": [
      "Routing for settlement Teaching Hospital. Please wait...\n"
     ]
    },
    {
     "name": "stderr",
     "output_type": "stream",
     "text": [
      "Calculating Routes for Teaching Hospital: 100%|█| 83/83 [00:43<00:00,  1.90it/s]\n"
     ]
    },
    {
     "name": "stdout",
     "output_type": "stream",
     "text": [
      "Routing for settlement Samakhusichok. Please wait...\n"
     ]
    },
    {
     "name": "stderr",
     "output_type": "stream",
     "text": [
      "Calculating Routes for Samakhusichok: 100%|█████| 83/83 [00:44<00:00,  1.86it/s]\n"
     ]
    },
    {
     "name": "stdout",
     "output_type": "stream",
     "text": [
      "Routing for settlement Gongabu. Please wait...\n"
     ]
    },
    {
     "name": "stderr",
     "output_type": "stream",
     "text": [
      "Calculating Routes for Gongabu: 100%|███████████| 83/83 [00:43<00:00,  1.89it/s]\n"
     ]
    },
    {
     "name": "stdout",
     "output_type": "stream",
     "text": [
      "Routing for settlement Balaju. Please wait...\n"
     ]
    },
    {
     "name": "stderr",
     "output_type": "stream",
     "text": [
      "Calculating Routes for Balaju: 100%|████████████| 83/83 [00:43<00:00,  1.90it/s]\n"
     ]
    },
    {
     "name": "stdout",
     "output_type": "stream",
     "text": [
      "Routing for settlement Tinchuli. Please wait...\n"
     ]
    },
    {
     "name": "stderr",
     "output_type": "stream",
     "text": [
      "Calculating Routes for Tinchuli: 100%|██████████| 83/83 [00:43<00:00,  1.92it/s]\n"
     ]
    },
    {
     "name": "stdout",
     "output_type": "stream",
     "text": [
      "Routing for settlement Balajutar. Please wait...\n"
     ]
    },
    {
     "name": "stderr",
     "output_type": "stream",
     "text": [
      "Calculating Routes for Balajutar: 100%|█████████| 83/83 [00:44<00:00,  1.87it/s]\n"
     ]
    },
    {
     "name": "stdout",
     "output_type": "stream",
     "text": [
      "Routing for settlement Mhaipi. Please wait...\n"
     ]
    },
    {
     "name": "stderr",
     "output_type": "stream",
     "text": [
      "Calculating Routes for Mhaipi: 100%|████████████| 83/83 [00:43<00:00,  1.93it/s]\n"
     ]
    },
    {
     "name": "stdout",
     "output_type": "stream",
     "text": [
      "Routing for settlement Panipokhari. Please wait...\n"
     ]
    },
    {
     "name": "stderr",
     "output_type": "stream",
     "text": [
      "Calculating Routes for Panipokhari: 100%|███████| 83/83 [00:43<00:00,  1.93it/s]\n"
     ]
    },
    {
     "name": "stdout",
     "output_type": "stream",
     "text": [
      "Routing for settlement Shantinagar. Please wait...\n"
     ]
    },
    {
     "name": "stderr",
     "output_type": "stream",
     "text": [
      "Calculating Routes for Shantinagar: 100%|███████| 83/83 [00:42<00:00,  1.97it/s]\n"
     ]
    },
    {
     "name": "stdout",
     "output_type": "stream",
     "text": [
      "Routing for settlement Industrial Estate. Please wait...\n"
     ]
    },
    {
     "name": "stderr",
     "output_type": "stream",
     "text": [
      "Calculating Routes for Industrial Estate: 100%|█| 83/83 [00:43<00:00,  1.91it/s]\n"
     ]
    },
    {
     "name": "stdout",
     "output_type": "stream",
     "text": [
      "Routing for settlement Baluwatar. Please wait...\n"
     ]
    },
    {
     "name": "stderr",
     "output_type": "stream",
     "text": [
      "Calculating Routes for Baluwatar: 100%|█████████| 83/83 [00:42<00:00,  1.95it/s]\n"
     ]
    },
    {
     "name": "stdout",
     "output_type": "stream",
     "text": [
      "Routing for settlement Mahangkalphant. Please wait...\n"
     ]
    },
    {
     "name": "stderr",
     "output_type": "stream",
     "text": [
      "Calculating Routes for Mahangkalphant: 100%|████| 83/83 [00:41<00:00,  1.98it/s]\n"
     ]
    },
    {
     "name": "stdout",
     "output_type": "stream",
     "text": [
      "Routing for settlement Samakhusi. Please wait...\n"
     ]
    },
    {
     "name": "stderr",
     "output_type": "stream",
     "text": [
      "Calculating Routes for Samakhusi: 100%|█████████| 83/83 [00:43<00:00,  1.92it/s]\n"
     ]
    },
    {
     "name": "stdout",
     "output_type": "stream",
     "text": [
      "Routing for settlement Balgangaghat. Please wait...\n"
     ]
    },
    {
     "name": "stderr",
     "output_type": "stream",
     "text": [
      "Calculating Routes for Balgangaghat: 100%|██████| 83/83 [00:42<00:00,  1.94it/s]\n"
     ]
    },
    {
     "name": "stdout",
     "output_type": "stream",
     "text": [
      "Routing for settlement Phulbari. Please wait...\n"
     ]
    },
    {
     "name": "stderr",
     "output_type": "stream",
     "text": [
      "Calculating Routes for Phulbari: 100%|██████████| 83/83 [00:42<00:00,  1.94it/s]\n"
     ]
    },
    {
     "name": "stdout",
     "output_type": "stream",
     "text": [
      "Routing for settlement Bauddha Mahangkal. Please wait...\n"
     ]
    },
    {
     "name": "stderr",
     "output_type": "stream",
     "text": [
      "Calculating Routes for Bauddha Mahangkal: 100%|█| 83/83 [00:44<00:00,  1.87it/s]\n"
     ]
    },
    {
     "name": "stdout",
     "output_type": "stream",
     "text": [
      "Routing for settlement Banasthali. Please wait...\n"
     ]
    },
    {
     "name": "stderr",
     "output_type": "stream",
     "text": [
      "Calculating Routes for Banasthali: 100%|████████| 83/83 [00:44<00:00,  1.88it/s]\n"
     ]
    },
    {
     "name": "stdout",
     "output_type": "stream",
     "text": [
      "Routing for settlement Gumba. Please wait...\n"
     ]
    },
    {
     "name": "stderr",
     "output_type": "stream",
     "text": [
      "Calculating Routes for Gumba: 100%|█████████████| 83/83 [00:43<00:00,  1.92it/s]\n"
     ]
    },
    {
     "name": "stdout",
     "output_type": "stream",
     "text": [
      "Routing for settlement Chandol. Please wait...\n"
     ]
    },
    {
     "name": "stderr",
     "output_type": "stream",
     "text": [
      "Calculating Routes for Chandol: 100%|███████████| 83/83 [00:43<00:00,  1.91it/s]\n"
     ]
    },
    {
     "name": "stdout",
     "output_type": "stream",
     "text": [
      "Routing for settlement Nayan Bajar. Please wait...\n"
     ]
    },
    {
     "name": "stderr",
     "output_type": "stream",
     "text": [
      "Calculating Routes for Nayan Bajar: 100%|███████| 83/83 [00:42<00:00,  1.94it/s]\n"
     ]
    },
    {
     "name": "stdout",
     "output_type": "stream",
     "text": [
      "Routing for settlement Bauddha. Please wait...\n"
     ]
    },
    {
     "name": "stderr",
     "output_type": "stream",
     "text": [
      "Calculating Routes for Bauddha: 100%|███████████| 83/83 [00:43<00:00,  1.93it/s]\n"
     ]
    },
    {
     "name": "stdout",
     "output_type": "stream",
     "text": [
      "Routing for settlement Bishalnagar. Please wait...\n"
     ]
    },
    {
     "name": "stderr",
     "output_type": "stream",
     "text": [
      "Calculating Routes for Bishalnagar: 100%|███████| 83/83 [00:42<00:00,  1.97it/s]\n"
     ]
    },
    {
     "name": "stdout",
     "output_type": "stream",
     "text": [
      "Routing for settlement Tusal. Please wait...\n"
     ]
    },
    {
     "name": "stderr",
     "output_type": "stream",
     "text": [
      "Calculating Routes for Tusal: 100%|█████████████| 83/83 [00:42<00:00,  1.97it/s]\n"
     ]
    },
    {
     "name": "stdout",
     "output_type": "stream",
     "text": [
      "Routing for settlement Lajimpat. Please wait...\n"
     ]
    },
    {
     "name": "stderr",
     "output_type": "stream",
     "text": [
      "Calculating Routes for Lajimpat: 100%|██████████| 83/83 [00:41<00:00,  1.99it/s]\n"
     ]
    },
    {
     "name": "stdout",
     "output_type": "stream",
     "text": [
      "Routing for settlement Taragaun. Please wait...\n"
     ]
    },
    {
     "name": "stderr",
     "output_type": "stream",
     "text": [
      "Calculating Routes for Taragaun: 100%|██████████| 83/83 [00:42<00:00,  1.96it/s]\n"
     ]
    },
    {
     "name": "stdout",
     "output_type": "stream",
     "text": [
      "Routing for settlement Bhatbhateni. Please wait...\n"
     ]
    },
    {
     "name": "stderr",
     "output_type": "stream",
     "text": [
      "Calculating Routes for Bhatbhateni: 100%|███████| 83/83 [00:41<00:00,  2.00it/s]\n"
     ]
    },
    {
     "name": "stdout",
     "output_type": "stream",
     "text": [
      "Routing for settlement Swayambhu. Please wait...\n"
     ]
    },
    {
     "name": "stderr",
     "output_type": "stream",
     "text": [
      "Calculating Routes for Swayambhu: 100%|█████████| 83/83 [00:44<00:00,  1.87it/s]\n"
     ]
    },
    {
     "name": "stdout",
     "output_type": "stream",
     "text": [
      "Routing for settlement Lainchaur. Please wait...\n"
     ]
    },
    {
     "name": "stderr",
     "output_type": "stream",
     "text": [
      "Calculating Routes for Lainchaur: 100%|█████████| 83/83 [00:42<00:00,  1.96it/s]\n"
     ]
    },
    {
     "name": "stdout",
     "output_type": "stream",
     "text": [
      "Routing for settlement Kumaristhan. Please wait...\n"
     ]
    },
    {
     "name": "stderr",
     "output_type": "stream",
     "text": [
      "Calculating Routes for Kumaristhan: 100%|███████| 83/83 [00:41<00:00,  1.98it/s]\n"
     ]
    },
    {
     "name": "stdout",
     "output_type": "stream",
     "text": [
      "Routing for settlement Sorhakhutte. Please wait...\n"
     ]
    },
    {
     "name": "stderr",
     "output_type": "stream",
     "text": [
      "Calculating Routes for Sorhakhutte: 100%|███████| 83/83 [00:42<00:00,  1.96it/s]\n"
     ]
    },
    {
     "name": "stdout",
     "output_type": "stream",
     "text": [
      "Routing for settlement Khusibu. Please wait...\n"
     ]
    },
    {
     "name": "stderr",
     "output_type": "stream",
     "text": [
      "Calculating Routes for Khusibu: 100%|███████████| 83/83 [00:42<00:00,  1.96it/s]\n"
     ]
    },
    {
     "name": "stdout",
     "output_type": "stream",
     "text": [
      "Routing for settlement Handigaun. Please wait...\n"
     ]
    },
    {
     "name": "stderr",
     "output_type": "stream",
     "text": [
      "Calculating Routes for Handigaun: 100%|█████████| 83/83 [00:41<00:00,  1.99it/s]\n"
     ]
    },
    {
     "name": "stdout",
     "output_type": "stream",
     "text": [
      "Routing for settlement Chabahil. Please wait...\n"
     ]
    },
    {
     "name": "stderr",
     "output_type": "stream",
     "text": [
      "Calculating Routes for Chabahil: 100%|██████████| 83/83 [00:41<00:00,  2.01it/s]\n"
     ]
    },
    {
     "name": "stdout",
     "output_type": "stream",
     "text": [
      "Routing for settlement Tangal. Please wait...\n"
     ]
    },
    {
     "name": "stderr",
     "output_type": "stream",
     "text": [
      "Calculating Routes for Tangal: 100%|████████████| 83/83 [00:41<00:00,  1.99it/s]\n"
     ]
    },
    {
     "name": "stdout",
     "output_type": "stream",
     "text": [
      "Routing for settlement Katubahal. Please wait...\n"
     ]
    },
    {
     "name": "stderr",
     "output_type": "stream",
     "text": [
      "Calculating Routes for Katubahal: 100%|█████████| 83/83 [00:41<00:00,  2.01it/s]\n"
     ]
    },
    {
     "name": "stdout",
     "output_type": "stream",
     "text": [
      "Routing for settlement Paknajol. Please wait...\n"
     ]
    },
    {
     "name": "stderr",
     "output_type": "stream",
     "text": [
      "Calculating Routes for Paknajol: 100%|██████████| 83/83 [00:42<00:00,  1.97it/s]\n"
     ]
    },
    {
     "name": "stdout",
     "output_type": "stream",
     "text": [
      "Routing for settlement Kumarigal. Please wait...\n"
     ]
    },
    {
     "name": "stderr",
     "output_type": "stream",
     "text": [
      "Calculating Routes for Kumarigal: 100%|█████████| 83/83 [00:41<00:00,  2.02it/s]\n"
     ]
    },
    {
     "name": "stdout",
     "output_type": "stream",
     "text": [
      "Routing for settlement Narayanhiti Royal Palace. Please wait...\n"
     ]
    },
    {
     "name": "stderr",
     "output_type": "stream",
     "text": [
      "Calculating Routes for Narayanhiti Royal Palace: 100%|█| 83/83 [00:41<00:00,  2.\n"
     ]
    },
    {
     "name": "stdout",
     "output_type": "stream",
     "text": [
      "Routing for settlement Kaldhara. Please wait...\n"
     ]
    },
    {
     "name": "stderr",
     "output_type": "stream",
     "text": [
      "Calculating Routes for Kaldhara: 100%|██████████| 83/83 [00:42<00:00,  1.95it/s]\n"
     ]
    },
    {
     "name": "stdout",
     "output_type": "stream",
     "text": [
      "Routing for settlement Swayambhunath. Please wait...\n"
     ]
    },
    {
     "name": "stderr",
     "output_type": "stream",
     "text": [
      "Calculating Routes for Swayambhunath: 100%|█████| 83/83 [00:42<00:00,  1.95it/s]\n"
     ]
    },
    {
     "name": "stdout",
     "output_type": "stream",
     "text": [
      "Routing for settlement Thamel. Please wait...\n"
     ]
    },
    {
     "name": "stderr",
     "output_type": "stream",
     "text": [
      "Calculating Routes for Thamel: 100%|████████████| 83/83 [00:42<00:00,  1.96it/s]\n"
     ]
    },
    {
     "name": "stdout",
     "output_type": "stream",
     "text": [
      "Routing for settlement Sobhabhagawati. Please wait...\n"
     ]
    },
    {
     "name": "stderr",
     "output_type": "stream",
     "text": [
      "Calculating Routes for Sobhabhagawati: 100%|████| 83/83 [00:42<00:00,  1.94it/s]\n"
     ]
    },
    {
     "name": "stdout",
     "output_type": "stream",
     "text": [
      "Routing for settlement Dhobichaur. Please wait...\n"
     ]
    },
    {
     "name": "stderr",
     "output_type": "stream",
     "text": [
      "Calculating Routes for Dhobichaur: 100%|████████| 83/83 [00:42<00:00,  1.97it/s]\n"
     ]
    },
    {
     "name": "stdout",
     "output_type": "stream",
     "text": [
      "Routing for settlement Naksal. Please wait...\n"
     ]
    },
    {
     "name": "stderr",
     "output_type": "stream",
     "text": [
      "Calculating Routes for Naksal: 100%|████████████| 83/83 [00:41<00:00,  2.00it/s]\n"
     ]
    },
    {
     "name": "stdout",
     "output_type": "stream",
     "text": [
      "Routing for settlement Gaurighat. Please wait...\n"
     ]
    },
    {
     "name": "stderr",
     "output_type": "stream",
     "text": [
      "Calculating Routes for Gaurighat: 100%|█████████| 83/83 [00:41<00:00,  2.00it/s]\n"
     ]
    },
    {
     "name": "stdout",
     "output_type": "stream",
     "text": [
      "Routing for settlement Bijeshwari. Please wait...\n"
     ]
    },
    {
     "name": "stderr",
     "output_type": "stream",
     "text": [
      "Calculating Routes for Bijeshwari: 100%|████████| 83/83 [00:41<00:00,  1.98it/s]\n"
     ]
    },
    {
     "name": "stdout",
     "output_type": "stream",
     "text": [
      "Routing for settlement Dhalko. Please wait...\n"
     ]
    },
    {
     "name": "stderr",
     "output_type": "stream",
     "text": [
      "Calculating Routes for Dhalko: 100%|████████████| 83/83 [00:42<00:00,  1.94it/s]\n"
     ]
    },
    {
     "name": "stdout",
     "output_type": "stream",
     "text": [
      "Routing for settlement Jyatha. Please wait...\n"
     ]
    },
    {
     "name": "stderr",
     "output_type": "stream",
     "text": [
      "Calculating Routes for Jyatha:  65%|███████▊    | 54/83 [00:29<00:13,  2.17it/s]"
     ]
    },
    {
     "name": "stdout",
     "output_type": "stream",
     "text": [
      "Error while processing route for Jyatha to Election Commission Office\n",
      ": IllegalArgumentException: point array must contain 0 or >1 elements\n",
      "\n"
     ]
    },
    {
     "name": "stderr",
     "output_type": "stream",
     "text": [
      "Calculating Routes for Jyatha: 100%|████████████| 83/83 [00:43<00:00,  1.92it/s]\n"
     ]
    },
    {
     "name": "stdout",
     "output_type": "stream",
     "text": [
      "Routing for settlement Chhetrapati. Please wait...\n"
     ]
    },
    {
     "name": "stderr",
     "output_type": "stream",
     "text": [
      "Calculating Routes for Chhetrapati: 100%|███████| 83/83 [00:42<00:00,  1.95it/s]\n"
     ]
    },
    {
     "name": "stdout",
     "output_type": "stream",
     "text": [
      "Routing for settlement Siphal. Please wait...\n"
     ]
    },
    {
     "name": "stderr",
     "output_type": "stream",
     "text": [
      "Calculating Routes for Siphal: 100%|████████████| 83/83 [00:40<00:00,  2.03it/s]\n"
     ]
    },
    {
     "name": "stdout",
     "output_type": "stream",
     "text": [
      "Routing for settlement Guhyeshwari. Please wait...\n"
     ]
    },
    {
     "name": "stderr",
     "output_type": "stream",
     "text": [
      "Calculating Routes for Guhyeshwari: 100%|███████| 83/83 [00:42<00:00,  1.96it/s]\n"
     ]
    },
    {
     "name": "stdout",
     "output_type": "stream",
     "text": [
      "Routing for settlement Pashupatinath. Please wait...\n"
     ]
    },
    {
     "name": "stderr",
     "output_type": "stream",
     "text": [
      "Calculating Routes for Pashupatinath: 100%|█████| 83/83 [00:41<00:00,  2.00it/s]\n"
     ]
    },
    {
     "name": "stdout",
     "output_type": "stream",
     "text": [
      "Routing for settlement Aryaghat. Please wait...\n"
     ]
    },
    {
     "name": "stderr",
     "output_type": "stream",
     "text": [
      "Calculating Routes for Aryaghat: 100%|██████████| 83/83 [00:41<00:00,  1.99it/s]\n"
     ]
    },
    {
     "name": "stdout",
     "output_type": "stream",
     "text": [
      "Routing for settlement Bhandarkhal. Please wait...\n"
     ]
    },
    {
     "name": "stderr",
     "output_type": "stream",
     "text": [
      "Calculating Routes for Bhandarkhal:  72%|█████  | 60/83 [00:29<00:11,  2.01it/s]"
     ]
    },
    {
     "name": "stdout",
     "output_type": "stream",
     "text": [
      "Error while processing route for Bhandarkhal to Bhandarkhal\n",
      ": IllegalArgumentException: point array must contain 0 or >1 elements\n",
      "\n"
     ]
    },
    {
     "name": "stderr",
     "output_type": "stream",
     "text": [
      "Calculating Routes for Bhandarkhal: 100%|███████| 83/83 [00:40<00:00,  2.03it/s]\n"
     ]
    },
    {
     "name": "stdout",
     "output_type": "stream",
     "text": [
      "Routing for settlement Jamal. Please wait...\n"
     ]
    },
    {
     "name": "stderr",
     "output_type": "stream",
     "text": [
      "Calculating Routes for Jamal: 100%|█████████████| 83/83 [00:41<00:00,  2.00it/s]\n"
     ]
    },
    {
     "name": "stdout",
     "output_type": "stream",
     "text": [
      "Routing for settlement Gyaneshwar. Please wait...\n"
     ]
    },
    {
     "name": "stderr",
     "output_type": "stream",
     "text": [
      "Calculating Routes for Gyaneshwar: 100%|████████| 83/83 [00:41<00:00,  2.01it/s]\n"
     ]
    },
    {
     "name": "stdout",
     "output_type": "stream",
     "text": [
      "Routing for settlement Kamaladi. Please wait...\n"
     ]
    },
    {
     "name": "stderr",
     "output_type": "stream",
     "text": [
      "Calculating Routes for Kamaladi: 100%|██████████| 83/83 [00:40<00:00,  2.06it/s]\n"
     ]
    },
    {
     "name": "stdout",
     "output_type": "stream",
     "text": [
      "Routing for settlement Kilagal. Please wait...\n"
     ]
    },
    {
     "name": "stderr",
     "output_type": "stream",
     "text": [
      "Calculating Routes for Kilagal: 100%|███████████| 83/83 [00:40<00:00,  2.04it/s]\n"
     ]
    },
    {
     "name": "stdout",
     "output_type": "stream",
     "text": [
      "Routing for settlement Gaushala. Please wait...\n"
     ]
    },
    {
     "name": "stderr",
     "output_type": "stream",
     "text": [
      "Calculating Routes for Gaushala:  43%|████▎     | 36/83 [00:17<00:20,  2.26it/s]"
     ]
    },
    {
     "name": "stdout",
     "output_type": "stream",
     "text": [
      "Error while processing route for Gaushala to Pashupati 5\n",
      ": IllegalArgumentException: point array must contain 0 or >1 elements\n",
      "\n"
     ]
    },
    {
     "name": "stderr",
     "output_type": "stream",
     "text": [
      "Calculating Routes for Gaushala: 100%|██████████| 83/83 [00:40<00:00,  2.06it/s]\n"
     ]
    },
    {
     "name": "stdout",
     "output_type": "stream",
     "text": [
      "Routing for settlement Tengal. Please wait...\n"
     ]
    },
    {
     "name": "stderr",
     "output_type": "stream",
     "text": [
      "Calculating Routes for Tengal: 100%|████████████| 83/83 [00:40<00:00,  2.04it/s]\n"
     ]
    },
    {
     "name": "stdout",
     "output_type": "stream",
     "text": [
      "Routing for settlement Tamsipakha. Please wait...\n"
     ]
    },
    {
     "name": "stderr",
     "output_type": "stream",
     "text": [
      "Calculating Routes for Tamsipakha: 100%|████████| 83/83 [00:41<00:00,  2.00it/s]\n"
     ]
    },
    {
     "name": "stdout",
     "output_type": "stream",
     "text": [
      "Routing for settlement Bahiti. Please wait...\n"
     ]
    },
    {
     "name": "stderr",
     "output_type": "stream",
     "text": [
      "Calculating Routes for Bahiti: 100%|████████████| 83/83 [00:44<00:00,  1.88it/s]\n"
     ]
    },
    {
     "name": "stdout",
     "output_type": "stream",
     "text": [
      "Routing for settlement Chhauni. Please wait...\n"
     ]
    },
    {
     "name": "stderr",
     "output_type": "stream",
     "text": [
      "Calculating Routes for Chhauni: 100%|███████████| 83/83 [00:42<00:00,  1.97it/s]\n"
     ]
    },
    {
     "name": "stdout",
     "output_type": "stream",
     "text": [
      "Routing for settlement Naradevi. Please wait...\n"
     ]
    },
    {
     "name": "stderr",
     "output_type": "stream",
     "text": [
      "Calculating Routes for Naradevi: 100%|██████████| 83/83 [00:41<00:00,  2.00it/s]\n"
     ]
    },
    {
     "name": "stdout",
     "output_type": "stream",
     "text": [
      "Routing for settlement Asan. Please wait...\n"
     ]
    },
    {
     "name": "stderr",
     "output_type": "stream",
     "text": [
      "Calculating Routes for Asan: 100%|██████████████| 83/83 [00:40<00:00,  2.04it/s]\n"
     ]
    },
    {
     "name": "stdout",
     "output_type": "stream",
     "text": [
      "Routing for settlement Dilli Bajar. Please wait...\n"
     ]
    },
    {
     "name": "stderr",
     "output_type": "stream",
     "text": [
      "Calculating Routes for Dilli Bajar: 100%|███████| 83/83 [00:40<00:00,  2.05it/s]\n"
     ]
    },
    {
     "name": "stdout",
     "output_type": "stream",
     "text": [
      "Routing for settlement Ratnapark. Please wait...\n"
     ]
    },
    {
     "name": "stderr",
     "output_type": "stream",
     "text": [
      "Calculating Routes for Ratnapark: 100%|█████████| 83/83 [00:40<00:00,  2.07it/s]\n"
     ]
    },
    {
     "name": "stdout",
     "output_type": "stream",
     "text": [
      "Routing for settlement Yatkha. Please wait...\n"
     ]
    },
    {
     "name": "stderr",
     "output_type": "stream",
     "text": [
      "Calculating Routes for Yatkha: 100%|████████████| 83/83 [00:41<00:00,  2.01it/s]\n"
     ]
    },
    {
     "name": "stdout",
     "output_type": "stream",
     "text": [
      "Routing for settlement Indrachok. Please wait...\n"
     ]
    },
    {
     "name": "stderr",
     "output_type": "stream",
     "text": [
      "Calculating Routes for Indrachok: 100%|█████████| 83/83 [00:40<00:00,  2.04it/s]\n"
     ]
    },
    {
     "name": "stdout",
     "output_type": "stream",
     "text": [
      "Routing for settlement Battishputali. Please wait...\n"
     ]
    },
    {
     "name": "stderr",
     "output_type": "stream",
     "text": [
      "Calculating Routes for Battishputali: 100%|█████| 83/83 [00:41<00:00,  1.99it/s]\n"
     ]
    },
    {
     "name": "stdout",
     "output_type": "stream",
     "text": [
      "Routing for settlement Tahachal. Please wait...\n"
     ]
    },
    {
     "name": "stderr",
     "output_type": "stream",
     "text": [
      "Calculating Routes for Tahachal: 100%|██████████| 83/83 [00:41<00:00,  1.98it/s]\n"
     ]
    },
    {
     "name": "stdout",
     "output_type": "stream",
     "text": [
      "Routing for settlement Bir Hospital. Please wait...\n"
     ]
    },
    {
     "name": "stderr",
     "output_type": "stream",
     "text": [
      "Calculating Routes for Bir Hospital: 100%|██████| 83/83 [00:40<00:00,  2.06it/s]\n"
     ]
    },
    {
     "name": "stdout",
     "output_type": "stream",
     "text": [
      "Routing for settlement National Musium. Please wait...\n"
     ]
    },
    {
     "name": "stderr",
     "output_type": "stream",
     "text": [
      "Calculating Routes for National Musium: 100%|███| 83/83 [00:42<00:00,  1.96it/s]\n"
     ]
    },
    {
     "name": "stdout",
     "output_type": "stream",
     "text": [
      "Routing for settlement Bag Bajar. Please wait...\n"
     ]
    },
    {
     "name": "stderr",
     "output_type": "stream",
     "text": [
      "Calculating Routes for Bag Bajar: 100%|█████████| 83/83 [00:40<00:00,  2.05it/s]\n"
     ]
    },
    {
     "name": "stdout",
     "output_type": "stream",
     "text": [
      "Routing for settlement Hanumandhoka. Please wait...\n"
     ]
    },
    {
     "name": "stderr",
     "output_type": "stream",
     "text": [
      "Calculating Routes for Hanumandhoka: 100%|██████| 83/83 [00:41<00:00,  2.02it/s]\n"
     ]
    },
    {
     "name": "stdout",
     "output_type": "stream",
     "text": [
      "Routing for settlement Chhauni. Please wait...\n"
     ]
    },
    {
     "name": "stderr",
     "output_type": "stream",
     "text": [
      "Calculating Routes for Chhauni: 100%|███████████| 83/83 [00:43<00:00,  1.91it/s]\n"
     ]
    },
    {
     "name": "stdout",
     "output_type": "stream",
     "text": [
      "Routing for settlement Maitidevi. Please wait...\n"
     ]
    },
    {
     "name": "stderr",
     "output_type": "stream",
     "text": [
      "Calculating Routes for Maitidevi: 100%|█████████| 83/83 [00:41<00:00,  2.00it/s]\n"
     ]
    },
    {
     "name": "stdout",
     "output_type": "stream",
     "text": [
      "Routing for settlement Tilganga. Please wait...\n"
     ]
    },
    {
     "name": "stderr",
     "output_type": "stream",
     "text": [
      "Calculating Routes for Tilganga:  89%|████████▉ | 74/83 [00:35<00:04,  2.24it/s]"
     ]
    },
    {
     "name": "stdout",
     "output_type": "stream",
     "text": [
      "Error while processing route for Tilganga to Golf club site (royal)/airport\n",
      ": IllegalArgumentException: point array must contain 0 or >1 elements\n",
      "\n"
     ]
    },
    {
     "name": "stderr",
     "output_type": "stream",
     "text": [
      "Calculating Routes for Tilganga: 100%|██████████| 83/83 [00:40<00:00,  2.06it/s]\n"
     ]
    },
    {
     "name": "stdout",
     "output_type": "stream",
     "text": [
      "Routing for settlement Marutol. Please wait...\n"
     ]
    },
    {
     "name": "stderr",
     "output_type": "stream",
     "text": [
      "Calculating Routes for Marutol: 100%|███████████| 83/83 [00:40<00:00,  2.03it/s]\n"
     ]
    },
    {
     "name": "stdout",
     "output_type": "stream",
     "text": [
      "Routing for settlement Basantapur. Please wait...\n"
     ]
    },
    {
     "name": "stderr",
     "output_type": "stream",
     "text": [
      "Calculating Routes for Basantapur: 100%|████████| 83/83 [00:41<00:00,  2.01it/s]\n"
     ]
    },
    {
     "name": "stdout",
     "output_type": "stream",
     "text": [
      "Routing for settlement Nayansadak. Please wait...\n"
     ]
    },
    {
     "name": "stderr",
     "output_type": "stream",
     "text": [
      "Calculating Routes for Nayansadak: 100%|████████| 83/83 [00:41<00:00,  1.99it/s]\n"
     ]
    },
    {
     "name": "stdout",
     "output_type": "stream",
     "text": [
      "Routing for settlement Purano Baneshwar. Please wait...\n"
     ]
    },
    {
     "name": "stderr",
     "output_type": "stream",
     "text": [
      "Calculating Routes for Purano Baneshwar: 100%|██| 83/83 [00:40<00:00,  2.07it/s]\n"
     ]
    },
    {
     "name": "stdout",
     "output_type": "stream",
     "text": [
      "Routing for settlement Tundikhel. Please wait...\n"
     ]
    },
    {
     "name": "stderr",
     "output_type": "stream",
     "text": [
      "Calculating Routes for Tundikhel: 100%|█████████| 83/83 [00:40<00:00,  2.05it/s]\n"
     ]
    },
    {
     "name": "stdout",
     "output_type": "stream",
     "text": [
      "Routing for settlement Putalisadak. Please wait...\n"
     ]
    },
    {
     "name": "stderr",
     "output_type": "stream",
     "text": [
      "Calculating Routes for Putalisadak: 100%|███████| 83/83 [00:41<00:00,  2.01it/s]\n"
     ]
    },
    {
     "name": "stdout",
     "output_type": "stream",
     "text": [
      "Routing for settlement Ghattekulo. Please wait...\n"
     ]
    },
    {
     "name": "stderr",
     "output_type": "stream",
     "text": [
      "Calculating Routes for Ghattekulo: 100%|████████| 83/83 [00:40<00:00,  2.05it/s]\n"
     ]
    },
    {
     "name": "stdout",
     "output_type": "stream",
     "text": [
      "Routing for settlement Tribhuwan International Airport. Please wait...\n"
     ]
    },
    {
     "name": "stderr",
     "output_type": "stream",
     "text": [
      "Calculating Routes for Tribhuwan International Airport: 100%|█| 83/83 [00:39<00:\n"
     ]
    },
    {
     "name": "stdout",
     "output_type": "stream",
     "text": [
      "Routing for settlement Bhrikuti Mandap. Please wait...\n"
     ]
    },
    {
     "name": "stderr",
     "output_type": "stream",
     "text": [
      "Calculating Routes for Bhrikuti Mandap: 100%|███| 83/83 [00:39<00:00,  2.08it/s]\n"
     ]
    },
    {
     "name": "stdout",
     "output_type": "stream",
     "text": [
      "Routing for settlement Jaishideval. Please wait...\n"
     ]
    },
    {
     "name": "stderr",
     "output_type": "stream",
     "text": [
      "Calculating Routes for Jaishideval: 100%|███████| 83/83 [00:41<00:00,  2.01it/s]\n"
     ]
    },
    {
     "name": "stdout",
     "output_type": "stream",
     "text": [
      "Routing for settlement Waphal. Please wait...\n"
     ]
    },
    {
     "name": "stderr",
     "output_type": "stream",
     "text": [
      "Calculating Routes for Waphal: 100%|████████████| 83/83 [00:42<00:00,  1.97it/s]\n"
     ]
    },
    {
     "name": "stdout",
     "output_type": "stream",
     "text": [
      "Routing for settlement Kharibot. Please wait...\n"
     ]
    },
    {
     "name": "stderr",
     "output_type": "stream",
     "text": [
      "Calculating Routes for Kharibot: 100%|██████████| 83/83 [00:41<00:00,  2.02it/s]\n"
     ]
    },
    {
     "name": "stdout",
     "output_type": "stream",
     "text": [
      "Routing for settlement Sundhara. Please wait...\n"
     ]
    },
    {
     "name": "stderr",
     "output_type": "stream",
     "text": [
      "Calculating Routes for Sundhara: 100%|██████████| 83/83 [00:41<00:00,  2.01it/s]\n"
     ]
    },
    {
     "name": "stdout",
     "output_type": "stream",
     "text": [
      "Routing for settlement Simha Darbar. Please wait...\n"
     ]
    },
    {
     "name": "stderr",
     "output_type": "stream",
     "text": [
      "Calculating Routes for Simha Darbar: 100%|██████| 83/83 [00:39<00:00,  2.08it/s]\n"
     ]
    },
    {
     "name": "stdout",
     "output_type": "stream",
     "text": [
      "Routing for settlement Shahidgate. Please wait...\n"
     ]
    },
    {
     "name": "stderr",
     "output_type": "stream",
     "text": [
      "Calculating Routes for Shahidgate: 100%|████████| 83/83 [00:40<00:00,  2.06it/s]\n"
     ]
    },
    {
     "name": "stdout",
     "output_type": "stream",
     "text": [
      "Routing for settlement Kalimati. Please wait...\n"
     ]
    },
    {
     "name": "stderr",
     "output_type": "stream",
     "text": [
      "Calculating Routes for Kalimati: 100%|██████████| 83/83 [00:41<00:00,  2.00it/s]\n"
     ]
    },
    {
     "name": "stdout",
     "output_type": "stream",
     "text": [
      "Routing for settlement Anamnagar. Please wait...\n"
     ]
    },
    {
     "name": "stderr",
     "output_type": "stream",
     "text": [
      "Calculating Routes for Anamnagar: 100%|█████████| 83/83 [00:39<00:00,  2.10it/s]\n"
     ]
    },
    {
     "name": "stdout",
     "output_type": "stream",
     "text": [
      "Routing for settlement Bhimsengola. Please wait...\n"
     ]
    },
    {
     "name": "stderr",
     "output_type": "stream",
     "text": [
      "Calculating Routes for Bhimsengola: 100%|███████| 83/83 [00:40<00:00,  2.06it/s]\n"
     ]
    },
    {
     "name": "stdout",
     "output_type": "stream",
     "text": [
      "Routing for settlement Soltimod. Please wait...\n"
     ]
    },
    {
     "name": "stderr",
     "output_type": "stream",
     "text": [
      "Calculating Routes for Soltimod: 100%|██████████| 83/83 [00:41<00:00,  1.99it/s]\n"
     ]
    },
    {
     "name": "stdout",
     "output_type": "stream",
     "text": [
      "Routing for settlement Dasharath Stadium. Please wait...\n"
     ]
    },
    {
     "name": "stderr",
     "output_type": "stream",
     "text": [
      "Calculating Routes for Dasharath Stadium: 100%|█| 83/83 [00:39<00:00,  2.09it/s]\n"
     ]
    },
    {
     "name": "stdout",
     "output_type": "stream",
     "text": [
      "Routing for settlement Central Jail. Please wait...\n"
     ]
    },
    {
     "name": "stderr",
     "output_type": "stream",
     "text": [
      "Calculating Routes for Central Jail: 100%|██████| 83/83 [00:41<00:00,  2.00it/s]\n"
     ]
    },
    {
     "name": "stdout",
     "output_type": "stream",
     "text": [
      "Routing for settlement Teku. Please wait...\n"
     ]
    },
    {
     "name": "stderr",
     "output_type": "stream",
     "text": [
      "Calculating Routes for Teku: 100%|██████████████| 83/83 [00:40<00:00,  2.03it/s]\n"
     ]
    },
    {
     "name": "stdout",
     "output_type": "stream",
     "text": [
      "Routing for settlement Mahadevsthan. Please wait...\n"
     ]
    },
    {
     "name": "stderr",
     "output_type": "stream",
     "text": [
      "Calculating Routes for Mahadevsthan: 100%|██████| 83/83 [00:39<00:00,  2.09it/s]\n"
     ]
    },
    {
     "name": "stdout",
     "output_type": "stream",
     "text": [
      "Routing for settlement Sinamangal. Please wait...\n"
     ]
    },
    {
     "name": "stderr",
     "output_type": "stream",
     "text": [
      "Calculating Routes for Sinamangal: 100%|████████| 83/83 [00:39<00:00,  2.08it/s]\n"
     ]
    },
    {
     "name": "stdout",
     "output_type": "stream",
     "text": [
      "Routing for settlement Lampati. Please wait...\n"
     ]
    },
    {
     "name": "stderr",
     "output_type": "stream",
     "text": [
      "Calculating Routes for Lampati: 100%|███████████| 83/83 [00:42<00:00,  1.94it/s]\n"
     ]
    },
    {
     "name": "stdout",
     "output_type": "stream",
     "text": [
      "Routing for settlement Ravi Bhawan. Please wait...\n"
     ]
    },
    {
     "name": "stderr",
     "output_type": "stream",
     "text": [
      "Calculating Routes for Ravi Bhawan: 100%|███████| 83/83 [00:41<00:00,  1.98it/s]\n"
     ]
    },
    {
     "name": "stdout",
     "output_type": "stream",
     "text": [
      "Routing for settlement Kuleshwar. Please wait...\n"
     ]
    },
    {
     "name": "stderr",
     "output_type": "stream",
     "text": [
      "Calculating Routes for Kuleshwar: 100%|█████████| 83/83 [00:41<00:00,  1.98it/s]\n"
     ]
    },
    {
     "name": "stdout",
     "output_type": "stream",
     "text": [
      "Routing for settlement Tripureshwar. Please wait...\n"
     ]
    },
    {
     "name": "stderr",
     "output_type": "stream",
     "text": [
      "Calculating Routes for Tripureshwar: 100%|██████| 83/83 [00:41<00:00,  2.02it/s]\n"
     ]
    },
    {
     "name": "stdout",
     "output_type": "stream",
     "text": [
      "Routing for settlement Kandaghari. Please wait...\n"
     ]
    },
    {
     "name": "stderr",
     "output_type": "stream",
     "text": [
      "Calculating Routes for Kandaghari: 100%|████████| 83/83 [00:41<00:00,  2.00it/s]\n"
     ]
    },
    {
     "name": "stdout",
     "output_type": "stream",
     "text": [
      "Routing for settlement Maitighar. Please wait...\n"
     ]
    },
    {
     "name": "stderr",
     "output_type": "stream",
     "text": [
      "Calculating Routes for Maitighar: 100%|█████████| 83/83 [00:39<00:00,  2.11it/s]\n"
     ]
    },
    {
     "name": "stdout",
     "output_type": "stream",
     "text": [
      "Routing for settlement Babarmahal. Please wait...\n"
     ]
    },
    {
     "name": "stderr",
     "output_type": "stream",
     "text": [
      "Calculating Routes for Babarmahal: 100%|████████| 83/83 [00:39<00:00,  2.08it/s]\n"
     ]
    },
    {
     "name": "stdout",
     "output_type": "stream",
     "text": [
      "Routing for settlement Kalanki. Please wait...\n"
     ]
    },
    {
     "name": "stderr",
     "output_type": "stream",
     "text": [
      "Calculating Routes for Kalanki: 100%|███████████| 83/83 [00:42<00:00,  1.93it/s]\n"
     ]
    },
    {
     "name": "stdout",
     "output_type": "stream",
     "text": [
      "Routing for settlement Kalmochanghat. Please wait...\n"
     ]
    },
    {
     "name": "stderr",
     "output_type": "stream",
     "text": [
      "Calculating Routes for Kalmochanghat: 100%|█████| 83/83 [00:39<00:00,  2.08it/s]\n"
     ]
    },
    {
     "name": "stdout",
     "output_type": "stream",
     "text": [
      "Routing for settlement Thapathali. Please wait...\n"
     ]
    },
    {
     "name": "stderr",
     "output_type": "stream",
     "text": [
      "Calculating Routes for Thapathali: 100%|████████| 83/83 [00:40<00:00,  2.06it/s]\n"
     ]
    },
    {
     "name": "stdout",
     "output_type": "stream",
     "text": [
      "Routing for settlement Gairigaun. Please wait...\n"
     ]
    },
    {
     "name": "stderr",
     "output_type": "stream",
     "text": [
      "Calculating Routes for Gairigaun: 100%|█████████| 83/83 [00:42<00:00,  1.97it/s]\n"
     ]
    },
    {
     "name": "stdout",
     "output_type": "stream",
     "text": [
      "Routing for settlement Nayan Baneshwar. Please wait...\n"
     ]
    },
    {
     "name": "stderr",
     "output_type": "stream",
     "text": [
      "Calculating Routes for Nayan Baneshwar: 100%|███| 83/83 [00:39<00:00,  2.11it/s]\n"
     ]
    },
    {
     "name": "stdout",
     "output_type": "stream",
     "text": [
      "Routing for settlement Sinamangal. Please wait...\n"
     ]
    },
    {
     "name": "stderr",
     "output_type": "stream",
     "text": [
      "Calculating Routes for Sinamangal: 100%|████████| 83/83 [00:41<00:00,  2.02it/s]\n"
     ]
    },
    {
     "name": "stdout",
     "output_type": "stream",
     "text": [
      "Routing for settlement Min Bhawan. Please wait...\n"
     ]
    },
    {
     "name": "stderr",
     "output_type": "stream",
     "text": [
      "Calculating Routes for Min Bhawan: 100%|████████| 83/83 [00:39<00:00,  2.09it/s]\n"
     ]
    },
    {
     "name": "stdout",
     "output_type": "stream",
     "text": [
      "Routing for settlement Gangkhel. Please wait...\n"
     ]
    },
    {
     "name": "stderr",
     "output_type": "stream",
     "text": [
      "Calculating Routes for Gangkhel: 100%|██████████| 83/83 [00:41<00:00,  2.00it/s]\n"
     ]
    },
    {
     "name": "stdout",
     "output_type": "stream",
     "text": [
      "Routing for settlement Chhapro. Please wait...\n"
     ]
    },
    {
     "name": "stderr",
     "output_type": "stream",
     "text": [
      "Calculating Routes for Chhapro: 100%|███████████| 83/83 [00:41<00:00,  2.02it/s]\n"
     ]
    },
    {
     "name": "stdout",
     "output_type": "stream",
     "text": [
      "Routing for settlement Tinkune. Please wait...\n"
     ]
    },
    {
     "name": "stderr",
     "output_type": "stream",
     "text": [
      "Calculating Routes for Tinkune: 100%|███████████| 83/83 [00:39<00:00,  2.12it/s]\n"
     ]
    },
    {
     "name": "stdout",
     "output_type": "stream",
     "text": [
      "Routing for settlement Buddhanagar. Please wait...\n"
     ]
    },
    {
     "name": "stderr",
     "output_type": "stream",
     "text": [
      "Calculating Routes for Buddhanagar: 100%|███████| 83/83 [00:39<00:00,  2.08it/s]\n"
     ]
    },
    {
     "name": "stdout",
     "output_type": "stream",
     "text": [
      "Routing for settlement Shrinagartol. Please wait...\n"
     ]
    },
    {
     "name": "stderr",
     "output_type": "stream",
     "text": [
      "Calculating Routes for Shrinagartol: 100%|██████| 83/83 [00:41<00:00,  2.02it/s]\n"
     ]
    },
    {
     "name": "stdout",
     "output_type": "stream",
     "text": [
      "Routing for settlement Subidhanagar. Please wait...\n"
     ]
    },
    {
     "name": "stderr",
     "output_type": "stream",
     "text": [
      "Calculating Routes for Subidhanagar: 100%|██████| 83/83 [00:39<00:00,  2.08it/s]\n"
     ]
    },
    {
     "name": "stdout",
     "output_type": "stream",
     "text": [
      "Routing for settlement Alokangar. Please wait...\n"
     ]
    },
    {
     "name": "stderr",
     "output_type": "stream",
     "text": [
      "Calculating Routes for Alokangar: 100%|█████████| 83/83 [00:39<00:00,  2.09it/s]\n"
     ]
    },
    {
     "name": "stdout",
     "output_type": "stream",
     "text": [
      "Routing for settlement Balkhu. Please wait...\n"
     ]
    },
    {
     "name": "stderr",
     "output_type": "stream",
     "text": [
      "Calculating Routes for Balkhu: 100%|████████████| 83/83 [00:42<00:00,  1.95it/s]\n"
     ]
    },
    {
     "name": "stdout",
     "output_type": "stream",
     "text": [
      "Routing for settlement Mahadevsthan. Please wait...\n"
     ]
    },
    {
     "name": "stderr",
     "output_type": "stream",
     "text": [
      "Calculating Routes for Mahadevsthan: 100%|██████| 83/83 [00:40<00:00,  2.07it/s]\n"
     ]
    },
    {
     "name": "stdout",
     "output_type": "stream",
     "text": [
      "Routing for settlement Shankhamul Dobhan. Please wait...\n"
     ]
    },
    {
     "name": "stderr",
     "output_type": "stream",
     "text": [
      "Calculating Routes for Shankhamul Dobhan: 100%|█| 83/83 [00:39<00:00,  2.09it/s]\n"
     ]
    },
    {
     "name": "stdout",
     "output_type": "stream",
     "text": [
      "Routing for settlement Koteshwar. Please wait...\n"
     ]
    },
    {
     "name": "stderr",
     "output_type": "stream",
     "text": [
      "Calculating Routes for Koteshwar: 100%|█████████| 83/83 [00:40<00:00,  2.05it/s]\n"
     ]
    }
   ],
   "source": [
    "import os\n",
    "from datetime import datetime\n",
    "\n",
    "# Create a directory with current date and time\n",
    "current_datetime = datetime.now().strftime(\"%Y-%m-%d_%H-%M-%S\")\n",
    "directory = f\"routes_{current_datetime}\"\n",
    "os.makedirs(directory)\n",
    "\n",
    "for idx, row in gdf_settl.iterrows():\n",
    "    origin_name = row['SETTL_NAME']\n",
    "    origin_lat, origin_lon = row.geometry.centroid.y, row.geometry.centroid.x\n",
    "    orig_coords = (origin_lat, origin_lon)\n",
    "\n",
    "    print(f\"Routing for settlement {origin_name}. Please wait...\")\n",
    "\n",
    "    # Create an empty list to store the route details for this settlement\n",
    "    settlement_routes = []\n",
    "    \n",
    "    for index, row in tqdm(gdf_open_space.iterrows(), total=len(gdf_open_space), desc=f'Calculating Routes for {origin_name}'):\n",
    "        dest_name = row['Name']\n",
    "        dest_coords = (row['geometry'].centroid.y, row['geometry'].centroid.x)\n",
    "\n",
    "        try:\n",
    "            # Find the nearest network nodes to the specified coordinates\n",
    "            orig_node = ox.distance.nearest_nodes(G, orig_coords[1], orig_coords[0])\n",
    "            dest_node = ox.distance.nearest_nodes(G, dest_coords[1], dest_coords[0])\n",
    "\n",
    "            # Find the shortest path (by distance) between the specified nodes\n",
    "            route = ox.shortest_path(G, orig_node, dest_node, weight=\"travel_time\")\n",
    "            \n",
    "            # Convert the route to a LineString geometry\n",
    "            route_line = LineString([(G.nodes[u]['x'], G.nodes[u]['y']) for u in route])\n",
    "            \n",
    "            # Calculate the length of the route\n",
    "            route_length = int(sum(ox.utils_graph.route_to_gdf(G, route, \"length\")[\"length\"]))\n",
    "            route_time = int(sum(ox.utils_graph.route_to_gdf(G, route, \"travel_time\")[\"travel_time\"]))\n",
    "\n",
    "            # Convert route_time to minutes\n",
    "            route_time_minutes = route_time / 60\n",
    "\n",
    "            # Add the route details to the list of route details\n",
    "            route_details = {\n",
    "                'origin': origin_name,\n",
    "                'destination': dest_name,\n",
    "                'length': route_length,\n",
    "                'travel_time': route_time_minutes,\n",
    "                'geometry': route_line\n",
    "            }\n",
    "            settlement_routes.append(route_details)\n",
    "\n",
    "        except Exception as e:\n",
    "            print(f\"Error while processing route for {origin_name} to {dest_name}: {str(e)}\")\n",
    "            continue  # Continue to the next destination\n",
    "\n",
    "    # Create a GeoDataFrame from the list of route details\n",
    "    settlement_routes_gdf = gpd.GeoDataFrame(settlement_routes, crs=gdf_settl.crs)\n",
    "    \n",
    "    # Save routes for this settlement to a GeoJSON file in the directory\n",
    "    settlement_routes_gdf.to_file(os.path.join(directory, f\"{origin_name}_routes.geojson\"), driver='GeoJSON')\n"
   ]
  },
  {
   "cell_type": "code",
   "execution_count": null,
   "id": "186b94ba-3bac-4be8-8d6b-8dd148af2dc7",
   "metadata": {
    "tags": []
   },
   "outputs": [],
   "source": []
  },
  {
   "cell_type": "markdown",
   "id": "c27604a1-8025-4bd4-b567-f5da6e759b4b",
   "metadata": {},
   "source": [
    "# Obstancle "
   ]
  },
  {
   "cell_type": "code",
   "execution_count": null,
   "id": "070291b3-3032-4ae5-b131-4efa69857d4b",
   "metadata": {
    "tags": []
   },
   "outputs": [
    {
     "name": "stdout",
     "output_type": "stream",
     "text": [
      "Start processing...\n",
      "Obstacle processing complete.\n",
      "Created directory: obs_routes_2024-01-29_08-28-27\n",
      "Routing for settlement Bansbari. Please wait...\n"
     ]
    },
    {
     "name": "stderr",
     "output_type": "stream",
     "text": [
      "Calculating Routes for Bansbari: 100%|██████████| 83/83 [00:44<00:00,  1.86it/s]\n"
     ]
    },
    {
     "name": "stdout",
     "output_type": "stream",
     "text": [
      "Saved routes for Bansbari to Bansbari_routes.geojson\n",
      "Routing for settlement Basundhara. Please wait...\n"
     ]
    },
    {
     "name": "stderr",
     "output_type": "stream",
     "text": [
      "Calculating Routes for Basundhara: 100%|████████| 83/83 [00:44<00:00,  1.85it/s]\n"
     ]
    },
    {
     "name": "stdout",
     "output_type": "stream",
     "text": [
      "Saved routes for Basundhara to Basundhara_routes.geojson\n",
      "Routing for settlement Pipalbot. Please wait...\n"
     ]
    },
    {
     "name": "stderr",
     "output_type": "stream",
     "text": [
      "Calculating Routes for Pipalbot: 100%|██████████| 83/83 [00:44<00:00,  1.87it/s]\n"
     ]
    },
    {
     "name": "stdout",
     "output_type": "stream",
     "text": [
      "Saved routes for Pipalbot to Pipalbot_routes.geojson\n",
      "Routing for settlement Gairigaun. Please wait...\n"
     ]
    },
    {
     "name": "stderr",
     "output_type": "stream",
     "text": [
      "Calculating Routes for Gairigaun: 100%|█████████| 83/83 [00:44<00:00,  1.87it/s]\n"
     ]
    },
    {
     "name": "stdout",
     "output_type": "stream",
     "text": [
      "Saved routes for Gairigaun to Gairigaun_routes.geojson\n",
      "Routing for settlement Lohasal. Please wait...\n"
     ]
    },
    {
     "name": "stderr",
     "output_type": "stream",
     "text": [
      "Calculating Routes for Lohasal: 100%|███████████| 83/83 [00:43<00:00,  1.90it/s]\n"
     ]
    },
    {
     "name": "stdout",
     "output_type": "stream",
     "text": [
      "Saved routes for Lohasal to Lohasal_routes.geojson\n",
      "Routing for settlement Maharajganj. Please wait...\n"
     ]
    },
    {
     "name": "stderr",
     "output_type": "stream",
     "text": [
      "Calculating Routes for Maharajganj: 100%|███████| 83/83 [00:43<00:00,  1.91it/s]\n"
     ]
    },
    {
     "name": "stdout",
     "output_type": "stream",
     "text": [
      "Saved routes for Maharajganj to Maharajganj_routes.geojson\n",
      "Routing for settlement Teaching Hospital. Please wait...\n"
     ]
    },
    {
     "name": "stderr",
     "output_type": "stream",
     "text": [
      "Calculating Routes for Teaching Hospital: 100%|█| 83/83 [00:44<00:00,  1.87it/s]\n"
     ]
    },
    {
     "name": "stdout",
     "output_type": "stream",
     "text": [
      "Saved routes for Teaching Hospital to Teaching Hospital_routes.geojson\n",
      "Routing for settlement Samakhusichok. Please wait...\n"
     ]
    },
    {
     "name": "stderr",
     "output_type": "stream",
     "text": [
      "Calculating Routes for Samakhusichok: 100%|█████| 83/83 [00:44<00:00,  1.86it/s]\n"
     ]
    },
    {
     "name": "stdout",
     "output_type": "stream",
     "text": [
      "Saved routes for Samakhusichok to Samakhusichok_routes.geojson\n",
      "Routing for settlement Gongabu. Please wait...\n"
     ]
    },
    {
     "name": "stderr",
     "output_type": "stream",
     "text": [
      "Calculating Routes for Gongabu: 100%|███████████| 83/83 [00:44<00:00,  1.88it/s]\n"
     ]
    },
    {
     "name": "stdout",
     "output_type": "stream",
     "text": [
      "Saved routes for Gongabu to Gongabu_routes.geojson\n",
      "Routing for settlement Balaju. Please wait...\n"
     ]
    },
    {
     "name": "stderr",
     "output_type": "stream",
     "text": [
      "Calculating Routes for Balaju: 100%|████████████| 83/83 [00:43<00:00,  1.89it/s]\n"
     ]
    },
    {
     "name": "stdout",
     "output_type": "stream",
     "text": [
      "Saved routes for Balaju to Balaju_routes.geojson\n",
      "Routing for settlement Tinchuli. Please wait...\n"
     ]
    },
    {
     "name": "stderr",
     "output_type": "stream",
     "text": [
      "Calculating Routes for Tinchuli: 100%|██████████| 83/83 [00:43<00:00,  1.93it/s]\n"
     ]
    },
    {
     "name": "stdout",
     "output_type": "stream",
     "text": [
      "Saved routes for Tinchuli to Tinchuli_routes.geojson\n",
      "Routing for settlement Balajutar. Please wait...\n"
     ]
    },
    {
     "name": "stderr",
     "output_type": "stream",
     "text": [
      "Calculating Routes for Balajutar: 100%|█████████| 83/83 [00:44<00:00,  1.85it/s]\n"
     ]
    },
    {
     "name": "stdout",
     "output_type": "stream",
     "text": [
      "Saved routes for Balajutar to Balajutar_routes.geojson\n",
      "Routing for settlement Mhaipi. Please wait...\n"
     ]
    },
    {
     "name": "stderr",
     "output_type": "stream",
     "text": [
      "Calculating Routes for Mhaipi: 100%|████████████| 83/83 [00:43<00:00,  1.92it/s]\n"
     ]
    },
    {
     "name": "stdout",
     "output_type": "stream",
     "text": [
      "Saved routes for Mhaipi to Mhaipi_routes.geojson\n",
      "Routing for settlement Panipokhari. Please wait...\n"
     ]
    },
    {
     "name": "stderr",
     "output_type": "stream",
     "text": [
      "Calculating Routes for Panipokhari: 100%|███████| 83/83 [00:44<00:00,  1.88it/s]\n"
     ]
    },
    {
     "name": "stdout",
     "output_type": "stream",
     "text": [
      "Saved routes for Panipokhari to Panipokhari_routes.geojson\n",
      "Routing for settlement Shantinagar. Please wait...\n"
     ]
    },
    {
     "name": "stderr",
     "output_type": "stream",
     "text": [
      "Calculating Routes for Shantinagar: 100%|███████| 83/83 [00:43<00:00,  1.89it/s]\n"
     ]
    },
    {
     "name": "stdout",
     "output_type": "stream",
     "text": [
      "Saved routes for Shantinagar to Shantinagar_routes.geojson\n",
      "Routing for settlement Industrial Estate. Please wait...\n"
     ]
    },
    {
     "name": "stderr",
     "output_type": "stream",
     "text": [
      "Calculating Routes for Industrial Estate:   1%|  | 1/83 [00:00<00:51,  1.59it/s]"
     ]
    },
    {
     "name": "stdout",
     "output_type": "stream",
     "text": [
      "Error while processing route for Industrial Estate to Bhaktapur Durbar Square\n",
      ": 'NoneType' object is not iterable\n"
     ]
    },
    {
     "name": "stderr",
     "output_type": "stream",
     "text": [
      "Calculating Routes for Industrial Estate:   2%|  | 2/83 [00:00<00:35,  2.27it/s]"
     ]
    },
    {
     "name": "stdout",
     "output_type": "stream",
     "text": [
      "Error while processing route for Industrial Estate to Adarsa Azad Higher Secondary\n",
      "School\n",
      ": 'NoneType' object is not iterable\n"
     ]
    },
    {
     "name": "stderr",
     "output_type": "stream",
     "text": [
      "Calculating Routes for Industrial Estate:   4%|  | 3/83 [00:01<00:41,  1.93it/s]"
     ]
    },
    {
     "name": "stdout",
     "output_type": "stream",
     "text": [
      "Error while processing route for Industrial Estate to Bagmati Corridor 6\n",
      ": 'NoneType' object is not iterable\n"
     ]
    },
    {
     "name": "stderr",
     "output_type": "stream",
     "text": [
      "Calculating Routes for Industrial Estate:   5%|  | 4/83 [00:01<00:34,  2.30it/s]"
     ]
    },
    {
     "name": "stdout",
     "output_type": "stream",
     "text": [
      "Error while processing route for Industrial Estate to Basu School\n",
      ": 'NoneType' object is not iterable\n"
     ]
    },
    {
     "name": "stderr",
     "output_type": "stream",
     "text": [
      "Calculating Routes for Industrial Estate:   6%|  | 5/83 [00:02<00:38,  2.01it/s]"
     ]
    },
    {
     "name": "stdout",
     "output_type": "stream",
     "text": [
      "Error while processing route for Industrial Estate to Ratna Park\n",
      ": 'NoneType' object is not iterable\n"
     ]
    },
    {
     "name": "stderr",
     "output_type": "stream",
     "text": [
      "Calculating Routes for Industrial Estate:   7%|▏ | 6/83 [00:02<00:33,  2.31it/s]"
     ]
    },
    {
     "name": "stdout",
     "output_type": "stream",
     "text": [
      "Error while processing route for Industrial Estate to Vidyarthi Niketan\n",
      ": 'NoneType' object is not iterable\n"
     ]
    },
    {
     "name": "stderr",
     "output_type": "stream",
     "text": [
      "Calculating Routes for Industrial Estate:   8%|▏ | 7/83 [00:03<00:37,  2.05it/s]"
     ]
    },
    {
     "name": "stdout",
     "output_type": "stream",
     "text": [
      "Error while processing route for Industrial Estate to Suryamadi\n",
      ": 'NoneType' object is not iterable\n"
     ]
    },
    {
     "name": "stderr",
     "output_type": "stream",
     "text": [
      "Calculating Routes for Industrial Estate:  10%|▏ | 8/83 [00:03<00:32,  2.32it/s]"
     ]
    },
    {
     "name": "stdout",
     "output_type": "stream",
     "text": [
      "Error while processing route for Industrial Estate to Taumadi\n",
      ": 'NoneType' object is not iterable\n"
     ]
    },
    {
     "name": "stderr",
     "output_type": "stream",
     "text": [
      "Calculating Routes for Industrial Estate:  11%|▏ | 9/83 [00:04<00:29,  2.52it/s]"
     ]
    },
    {
     "name": "stdout",
     "output_type": "stream",
     "text": [
      "Error while processing route for Industrial Estate to Talako: 'NoneType' object is not iterable\n"
     ]
    },
    {
     "name": "stderr",
     "output_type": "stream",
     "text": [
      "Calculating Routes for Industrial Estate:  12%| | 10/83 [00:04<00:33,  2.17it/s]"
     ]
    },
    {
     "name": "stdout",
     "output_type": "stream",
     "text": [
      "Error while processing route for Industrial Estate to Sallaghari Tinkune\n",
      ": 'NoneType' object is not iterable\n"
     ]
    },
    {
     "name": "stderr",
     "output_type": "stream",
     "text": [
      "Calculating Routes for Industrial Estate:  13%|▏| 11/83 [00:04<00:29,  2.41it/s]"
     ]
    },
    {
     "name": "stdout",
     "output_type": "stream",
     "text": [
      "Error while processing route for Industrial Estate to Bhaktapur Bahumukhi Campus: 'NoneType' object is not iterable\n"
     ]
    },
    {
     "name": "stderr",
     "output_type": "stream",
     "text": [
      "Calculating Routes for Industrial Estate:  14%|▏| 12/83 [00:05<00:33,  2.11it/s]"
     ]
    },
    {
     "name": "stdout",
     "output_type": "stream",
     "text": [
      "Error while processing route for Industrial Estate to Oxygenation Park\n",
      ": 'NoneType' object is not iterable\n"
     ]
    },
    {
     "name": "stderr",
     "output_type": "stream",
     "text": [
      "Calculating Routes for Industrial Estate:  16%|▏| 13/83 [00:05<00:29,  2.35it/s]"
     ]
    },
    {
     "name": "stdout",
     "output_type": "stream",
     "text": [
      "Error while processing route for Industrial Estate to Saraswati Vidyagriha\n",
      ": 'NoneType' object is not iterable\n"
     ]
    },
    {
     "name": "stderr",
     "output_type": "stream",
     "text": [
      "Calculating Routes for Industrial Estate:  17%|▏| 14/83 [00:06<00:27,  2.53it/s]"
     ]
    },
    {
     "name": "stdout",
     "output_type": "stream",
     "text": [
      "Error while processing route for Industrial Estate to Bhelukhel\n",
      ": 'NoneType' object is not iterable\n"
     ]
    },
    {
     "name": "stderr",
     "output_type": "stream",
     "text": [
      "Calculating Routes for Industrial Estate:  18%|▏| 15/83 [00:06<00:31,  2.19it/s]"
     ]
    },
    {
     "name": "stdout",
     "output_type": "stream",
     "text": [
      "Error while processing route for Industrial Estate to Birendra Sainik School: 'NoneType' object is not iterable\n"
     ]
    },
    {
     "name": "stderr",
     "output_type": "stream",
     "text": [
      "Calculating Routes for Industrial Estate:  19%|▏| 16/83 [00:07<00:27,  2.42it/s]"
     ]
    },
    {
     "name": "stdout",
     "output_type": "stream",
     "text": [
      "Error while processing route for Industrial Estate to Padma Higher Secondary School\n",
      ": 'NoneType' object is not iterable\n"
     ]
    },
    {
     "name": "stderr",
     "output_type": "stream",
     "text": [
      "Calculating Routes for Industrial Estate:  20%|▏| 17/83 [00:07<00:31,  2.13it/s]"
     ]
    },
    {
     "name": "stdout",
     "output_type": "stream",
     "text": [
      "Error while processing route for Industrial Estate to Nasamana\n",
      ": 'NoneType' object is not iterable\n"
     ]
    },
    {
     "name": "stderr",
     "output_type": "stream",
     "text": [
      "Calculating Routes for Industrial Estate:  22%|▏| 18/83 [00:07<00:27,  2.37it/s]"
     ]
    },
    {
     "name": "stdout",
     "output_type": "stream",
     "text": [
      "Error while processing route for Industrial Estate to Maheshwori Football Ground\n",
      ": 'NoneType' object is not iterable\n"
     ]
    },
    {
     "name": "stderr",
     "output_type": "stream",
     "text": [
      "Calculating Routes for Industrial Estate:  23%|▏| 19/83 [00:08<00:30,  2.11it/s]"
     ]
    },
    {
     "name": "stdout",
     "output_type": "stream",
     "text": [
      "Error while processing route for Industrial Estate to End of Airport Site ( Civil\n",
      "Aviation 2 )\n",
      ": 'NoneType' object is not iterable\n"
     ]
    },
    {
     "name": "stderr",
     "output_type": "stream",
     "text": [
      "Calculating Routes for Industrial Estate:  24%|▏| 20/83 [00:08<00:26,  2.35it/s]"
     ]
    },
    {
     "name": "stdout",
     "output_type": "stream",
     "text": [
      "Error while processing route for Industrial Estate to Gokarna Golf Club Site\n",
      ": 'NoneType' object is not iterable\n"
     ]
    },
    {
     "name": "stderr",
     "output_type": "stream",
     "text": [
      "Calculating Routes for Industrial Estate:  25%|▎| 21/83 [00:09<00:29,  2.10it/s]"
     ]
    },
    {
     "name": "stdout",
     "output_type": "stream",
     "text": [
      "Error while processing route for Industrial Estate to Khwopa Engineering College\n",
      ": 'NoneType' object is not iterable\n"
     ]
    },
    {
     "name": "stderr",
     "output_type": "stream",
     "text": [
      "Calculating Routes for Industrial Estate:  27%|▎| 22/83 [00:09<00:26,  2.34it/s]"
     ]
    },
    {
     "name": "stdout",
     "output_type": "stream",
     "text": [
      "Error while processing route for Industrial Estate to Khwopa College: 'NoneType' object is not iterable\n"
     ]
    },
    {
     "name": "stderr",
     "output_type": "stream",
     "text": [
      "Calculating Routes for Industrial Estate:  28%|▎| 23/83 [00:10<00:23,  2.52it/s]"
     ]
    },
    {
     "name": "stdout",
     "output_type": "stream",
     "text": [
      "Error while processing route for Industrial Estate to Airport (Nepal Army Golf site)\n",
      ": 'NoneType' object is not iterable\n"
     ]
    },
    {
     "name": "stderr",
     "output_type": "stream",
     "text": [
      "Calculating Routes for Industrial Estate:  29%|▎| 24/83 [00:10<00:27,  2.16it/s]"
     ]
    },
    {
     "name": "stdout",
     "output_type": "stream",
     "text": [
      "Error while processing route for Industrial Estate to UN Park Gusingal: 'NoneType' object is not iterable\n"
     ]
    },
    {
     "name": "stderr",
     "output_type": "stream",
     "text": [
      "Calculating Routes for Industrial Estate:  30%|▎| 25/83 [00:11<00:24,  2.37it/s]"
     ]
    },
    {
     "name": "stdout",
     "output_type": "stream",
     "text": [
      "Error while processing route for Industrial Estate to Tribhuvan University\n",
      ": 'NoneType' object is not iterable\n"
     ]
    },
    {
     "name": "stderr",
     "output_type": "stream",
     "text": [
      "Calculating Routes for Industrial Estate:  31%|▎| 26/83 [00:11<00:27,  2.08it/s]"
     ]
    },
    {
     "name": "stdout",
     "output_type": "stream",
     "text": [
      "Error while processing route for Industrial Estate to Tibetan Refugee Camp\n",
      ": 'NoneType' object is not iterable\n"
     ]
    },
    {
     "name": "stderr",
     "output_type": "stream",
     "text": [
      "Calculating Routes for Industrial Estate:  33%|▎| 27/83 [00:12<00:24,  2.31it/s]"
     ]
    },
    {
     "name": "stdout",
     "output_type": "stream",
     "text": [
      "Error while processing route for Industrial Estate to St. Xavier School\n",
      ": 'NoneType' object is not iterable\n"
     ]
    },
    {
     "name": "stderr",
     "output_type": "stream",
     "text": [
      "Calculating Routes for Industrial Estate:  34%|▎| 28/83 [00:12<00:21,  2.50it/s]"
     ]
    },
    {
     "name": "stdout",
     "output_type": "stream",
     "text": [
      "Error while processing route for Industrial Estate to St. Mary's School\n",
      ": 'NoneType' object is not iterable\n"
     ]
    },
    {
     "name": "stderr",
     "output_type": "stream",
     "text": [
      "Calculating Routes for Industrial Estate:  35%|▎| 29/83 [00:12<00:24,  2.18it/s]"
     ]
    },
    {
     "name": "stdout",
     "output_type": "stream",
     "text": [
      "Error while processing route for Industrial Estate to Sifal Ground\n",
      ": 'NoneType' object is not iterable\n"
     ]
    },
    {
     "name": "stderr",
     "output_type": "stream",
     "text": [
      "Calculating Routes for Industrial Estate:  36%|▎| 30/83 [00:13<00:21,  2.42it/s]"
     ]
    },
    {
     "name": "stdout",
     "output_type": "stream",
     "text": [
      "Error while processing route for Industrial Estate to Shankha Park\n",
      ": 'NoneType' object is not iterable\n"
     ]
    },
    {
     "name": "stderr",
     "output_type": "stream",
     "text": [
      "Calculating Routes for Industrial Estate:  37%|▎| 31/83 [00:13<00:24,  2.13it/s]"
     ]
    },
    {
     "name": "stdout",
     "output_type": "stream",
     "text": [
      "Error while processing route for Industrial Estate to Sano Gaucharan\n",
      ": 'NoneType' object is not iterable\n"
     ]
    },
    {
     "name": "stderr",
     "output_type": "stream",
     "text": [
      "Calculating Routes for Industrial Estate:  39%|▍| 32/83 [00:14<00:21,  2.37it/s]"
     ]
    },
    {
     "name": "stdout",
     "output_type": "stream",
     "text": [
      "Error while processing route for Industrial Estate to RONAST\n",
      ": 'NoneType' object is not iterable\n"
     ]
    },
    {
     "name": "stderr",
     "output_type": "stream",
     "text": [
      "Calculating Routes for Industrial Estate:  40%|▍| 33/83 [00:14<00:23,  2.10it/s]"
     ]
    },
    {
     "name": "stdout",
     "output_type": "stream",
     "text": [
      "Error while processing route for Industrial Estate to Rastriya Sabha Griha\n",
      ": 'NoneType' object is not iterable\n"
     ]
    },
    {
     "name": "stderr",
     "output_type": "stream",
     "text": [
      "Calculating Routes for Industrial Estate:  41%|▍| 34/83 [00:15<00:20,  2.34it/s]"
     ]
    },
    {
     "name": "stdout",
     "output_type": "stream",
     "text": [
      "Error while processing route for Industrial Estate to Pulchowk Engg. College 2\n",
      ": 'NoneType' object is not iterable\n"
     ]
    },
    {
     "name": "stderr",
     "output_type": "stream",
     "text": [
      "Calculating Routes for Industrial Estate:  42%|▍| 35/83 [00:15<00:23,  2.08it/s]"
     ]
    },
    {
     "name": "stdout",
     "output_type": "stream",
     "text": [
      "Error while processing route for Industrial Estate to Pulchowk Engg. College\n",
      ": 'NoneType' object is not iterable\n"
     ]
    },
    {
     "name": "stderr",
     "output_type": "stream",
     "text": [
      "Calculating Routes for Industrial Estate:  43%|▍| 36/83 [00:15<00:20,  2.32it/s]"
     ]
    },
    {
     "name": "stdout",
     "output_type": "stream",
     "text": [
      "Error while processing route for Industrial Estate to Pashupati 5\n",
      ": 'NoneType' object is not iterable\n"
     ]
    },
    {
     "name": "stderr",
     "output_type": "stream",
     "text": [
      "Calculating Routes for Industrial Estate:  45%|▍| 37/83 [00:16<00:18,  2.51it/s]"
     ]
    },
    {
     "name": "stdout",
     "output_type": "stream",
     "text": [
      "Error while processing route for Industrial Estate to Pashupati 4\n",
      ": 'NoneType' object is not iterable\n"
     ]
    },
    {
     "name": "stderr",
     "output_type": "stream",
     "text": [
      "Calculating Routes for Industrial Estate:  46%|▍| 38/83 [00:16<00:21,  2.13it/s]"
     ]
    },
    {
     "name": "stdout",
     "output_type": "stream",
     "text": [
      "Error while processing route for Industrial Estate to Pashupati 3\n",
      ": 'NoneType' object is not iterable\n"
     ]
    },
    {
     "name": "stderr",
     "output_type": "stream",
     "text": [
      "Calculating Routes for Industrial Estate:  47%|▍| 39/83 [00:17<00:18,  2.32it/s]"
     ]
    },
    {
     "name": "stdout",
     "output_type": "stream",
     "text": [
      "Error while processing route for Industrial Estate to Pashupati 2\n",
      ": 'NoneType' object is not iterable\n"
     ]
    },
    {
     "name": "stderr",
     "output_type": "stream",
     "text": [
      "Calculating Routes for Industrial Estate:  48%|▍| 40/83 [00:17<00:21,  1.99it/s]"
     ]
    },
    {
     "name": "stdout",
     "output_type": "stream",
     "text": [
      "Error while processing route for Industrial Estate to Pashupati 1\n",
      ": 'NoneType' object is not iterable\n"
     ]
    },
    {
     "name": "stderr",
     "output_type": "stream",
     "text": [
      "Calculating Routes for Industrial Estate:  49%|▍| 41/83 [00:18<00:19,  2.21it/s]"
     ]
    },
    {
     "name": "stdout",
     "output_type": "stream",
     "text": [
      "Error while processing route for Industrial Estate to Padma Kanya Campus\n",
      ": 'NoneType' object is not iterable\n"
     ]
    },
    {
     "name": "stderr",
     "output_type": "stream",
     "text": [
      "Calculating Routes for Industrial Estate:  51%|▌| 42/83 [00:18<00:16,  2.41it/s]"
     ]
    },
    {
     "name": "stdout",
     "output_type": "stream",
     "text": [
      "Error while processing route for Industrial Estate to Nepal Bal Mandir\n",
      ": 'NoneType' object is not iterable\n"
     ]
    },
    {
     "name": "stderr",
     "output_type": "stream",
     "text": [
      "Calculating Routes for Industrial Estate:  52%|▌| 43/83 [00:19<00:20,  1.98it/s]"
     ]
    },
    {
     "name": "stdout",
     "output_type": "stream",
     "text": [
      "Error while processing route for Industrial Estate to National Academy\n",
      ": 'NoneType' object is not iterable\n"
     ]
    },
    {
     "name": "stderr",
     "output_type": "stream",
     "text": [
      "Calculating Routes for Industrial Estate:  53%|▌| 44/83 [00:19<00:18,  2.14it/s]"
     ]
    },
    {
     "name": "stdout",
     "output_type": "stream",
     "text": [
      "Error while processing route for Industrial Estate to NARC: 'NoneType' object is not iterable\n"
     ]
    },
    {
     "name": "stderr",
     "output_type": "stream",
     "text": [
      "Calculating Routes for Industrial Estate:  54%|▌| 45/83 [00:20<00:20,  1.89it/s]"
     ]
    },
    {
     "name": "stdout",
     "output_type": "stream",
     "text": [
      "Error while processing route for Industrial Estate to Modern Indian School\n",
      ": 'NoneType' object is not iterable\n"
     ]
    },
    {
     "name": "stderr",
     "output_type": "stream",
     "text": [
      "Calculating Routes for Industrial Estate:  55%|▌| 46/83 [00:20<00:17,  2.13it/s]"
     ]
    },
    {
     "name": "stdout",
     "output_type": "stream",
     "text": [
      "Error while processing route for Industrial Estate to Madan Smarak\n",
      ": 'NoneType' object is not iterable\n"
     ]
    },
    {
     "name": "stderr",
     "output_type": "stream",
     "text": [
      "Calculating Routes for Industrial Estate:  57%|▌| 47/83 [00:21<00:18,  1.95it/s]"
     ]
    },
    {
     "name": "stdout",
     "output_type": "stream",
     "text": [
      "Error while processing route for Industrial Estate to Lalitpur Municipality Office\n",
      ": 'NoneType' object is not iterable\n"
     ]
    },
    {
     "name": "stderr",
     "output_type": "stream",
     "text": [
      "Calculating Routes for Industrial Estate:  58%|▌| 48/83 [00:21<00:15,  2.21it/s]"
     ]
    },
    {
     "name": "stdout",
     "output_type": "stream",
     "text": [
      "Error while processing route for Industrial Estate to Lagankhel Stupa\n",
      ": 'NoneType' object is not iterable\n"
     ]
    },
    {
     "name": "stderr",
     "output_type": "stream",
     "text": [
      "Calculating Routes for Industrial Estate:  59%|▌| 49/83 [00:21<00:14,  2.42it/s]"
     ]
    },
    {
     "name": "stdout",
     "output_type": "stream",
     "text": [
      "Error while processing route for Industrial Estate to Lagankhel Football Ground\n",
      ": 'NoneType' object is not iterable\n"
     ]
    },
    {
     "name": "stderr",
     "output_type": "stream",
     "text": [
      "Calculating Routes for Industrial Estate:  60%|▌| 50/83 [00:22<00:15,  2.12it/s]"
     ]
    },
    {
     "name": "stdout",
     "output_type": "stream",
     "text": [
      "Error while processing route for Industrial Estate to Kwathandu\n",
      ": 'NoneType' object is not iterable\n"
     ]
    },
    {
     "name": "stderr",
     "output_type": "stream",
     "text": [
      "Calculating Routes for Industrial Estate:  61%|▌| 51/83 [00:22<00:13,  2.32it/s]"
     ]
    },
    {
     "name": "stdout",
     "output_type": "stream",
     "text": [
      "Error while processing route for Industrial Estate to Jawalakhel Football Ground\n",
      ": 'NoneType' object is not iterable\n"
     ]
    },
    {
     "name": "stderr",
     "output_type": "stream",
     "text": [
      "Calculating Routes for Industrial Estate:  63%|▋| 52/83 [00:23<00:15,  1.99it/s]"
     ]
    },
    {
     "name": "stdout",
     "output_type": "stream",
     "text": [
      "Error while processing route for Industrial Estate to Hyatt Regency Hotel: 'NoneType' object is not iterable\n"
     ]
    },
    {
     "name": "stderr",
     "output_type": "stream",
     "text": [
      "Calculating Routes for Industrial Estate:  64%|▋| 53/83 [00:23<00:13,  2.22it/s]"
     ]
    },
    {
     "name": "stdout",
     "output_type": "stream",
     "text": [
      "Error while processing route for Industrial Estate to Gokul Chaur\n",
      ": 'NoneType' object is not iterable\n"
     ]
    },
    {
     "name": "stderr",
     "output_type": "stream",
     "text": [
      "Calculating Routes for Industrial Estate:  65%|▋| 54/83 [00:24<00:12,  2.41it/s]"
     ]
    },
    {
     "name": "stdout",
     "output_type": "stream",
     "text": [
      "Error while processing route for Industrial Estate to Election Commission Office\n",
      ": 'NoneType' object is not iterable\n"
     ]
    },
    {
     "name": "stderr",
     "output_type": "stream",
     "text": [
      "Calculating Routes for Industrial Estate:  66%|▋| 55/83 [00:24<00:13,  2.12it/s]"
     ]
    },
    {
     "name": "stdout",
     "output_type": "stream",
     "text": [
      "Error while processing route for Industrial Estate to DWSS\n",
      ": 'NoneType' object is not iterable\n"
     ]
    },
    {
     "name": "stderr",
     "output_type": "stream",
     "text": [
      "Calculating Routes for Industrial Estate:  67%|▋| 56/83 [00:25<00:11,  2.33it/s]"
     ]
    },
    {
     "name": "stdout",
     "output_type": "stream",
     "text": [
      "Error while processing route for Industrial Estate to Datattratya\n",
      ": 'NoneType' object is not iterable\n"
     ]
    },
    {
     "name": "stderr",
     "output_type": "stream",
     "text": [
      "Calculating Routes for Industrial Estate:  69%|▋| 57/83 [00:25<00:12,  2.06it/s]"
     ]
    },
    {
     "name": "stdout",
     "output_type": "stream",
     "text": [
      "Error while processing route for Industrial Estate to Dashrath Stadium\n",
      ": 'NoneType' object is not iterable\n"
     ]
    },
    {
     "name": "stderr",
     "output_type": "stream",
     "text": [
      "Calculating Routes for Industrial Estate:  70%|▋| 58/83 [00:26<00:10,  2.29it/s]"
     ]
    },
    {
     "name": "stdout",
     "output_type": "stream",
     "text": [
      "Error while processing route for Industrial Estate to Civil Aviation 1\n",
      ": 'NoneType' object is not iterable\n"
     ]
    },
    {
     "name": "stderr",
     "output_type": "stream",
     "text": [
      "Calculating Routes for Industrial Estate:  71%|▋| 59/83 [00:26<00:11,  2.01it/s]"
     ]
    },
    {
     "name": "stdout",
     "output_type": "stream",
     "text": [
      "Error while processing route for Industrial Estate to Bhirkuti Mandap\n",
      ": 'NoneType' object is not iterable\n"
     ]
    },
    {
     "name": "stderr",
     "output_type": "stream",
     "text": [
      "Calculating Routes for Industrial Estate:  72%|▋| 60/83 [00:27<00:10,  2.21it/s]"
     ]
    },
    {
     "name": "stdout",
     "output_type": "stream",
     "text": [
      "Error while processing route for Industrial Estate to Bhandarkhal\n",
      ": 'NoneType' object is not iterable\n"
     ]
    },
    {
     "name": "stderr",
     "output_type": "stream",
     "text": [
      "Calculating Routes for Industrial Estate:  73%|▋| 61/83 [00:27<00:09,  2.40it/s]"
     ]
    },
    {
     "name": "stdout",
     "output_type": "stream",
     "text": [
      "Error while processing route for Industrial Estate to Balmiki Vidyapith\n",
      ": 'NoneType' object is not iterable\n"
     ]
    },
    {
     "name": "stderr",
     "output_type": "stream",
     "text": [
      "Calculating Routes for Industrial Estate:  75%|▋| 62/83 [00:28<00:10,  2.09it/s]"
     ]
    },
    {
     "name": "stdout",
     "output_type": "stream",
     "text": [
      "Error while processing route for Industrial Estate to Bagmati Corridor 5\n",
      "Bagmati Corridor 5\n",
      ": 'NoneType' object is not iterable\n"
     ]
    },
    {
     "name": "stderr",
     "output_type": "stream",
     "text": [
      "Calculating Routes for Industrial Estate:  76%|▊| 63/83 [00:28<00:08,  2.33it/s]"
     ]
    },
    {
     "name": "stdout",
     "output_type": "stream",
     "text": [
      "Error while processing route for Industrial Estate to Bagmati Corridor 4\n",
      ": 'NoneType' object is not iterable\n"
     ]
    },
    {
     "name": "stderr",
     "output_type": "stream",
     "text": [
      "Calculating Routes for Industrial Estate:  77%|▊| 64/83 [00:28<00:09,  2.07it/s]"
     ]
    },
    {
     "name": "stdout",
     "output_type": "stream",
     "text": [
      "Error while processing route for Industrial Estate to Bagmati Corridor 3: 'NoneType' object is not iterable\n"
     ]
    },
    {
     "name": "stderr",
     "output_type": "stream",
     "text": [
      "Calculating Routes for Industrial Estate:  78%|▊| 65/83 [00:29<00:07,  2.32it/s]"
     ]
    },
    {
     "name": "stdout",
     "output_type": "stream",
     "text": [
      "Error while processing route for Industrial Estate to Bagmati Corridor 2\n",
      ": 'NoneType' object is not iterable\n"
     ]
    },
    {
     "name": "stderr",
     "output_type": "stream",
     "text": [
      "Calculating Routes for Industrial Estate:  80%|▊| 66/83 [00:29<00:06,  2.53it/s]"
     ]
    },
    {
     "name": "stdout",
     "output_type": "stream",
     "text": [
      "Error while processing route for Industrial Estate to Bagmati Corridor 1\n",
      ": 'NoneType' object is not iterable\n"
     ]
    },
    {
     "name": "stderr",
     "output_type": "stream",
     "text": [
      "Calculating Routes for Industrial Estate:  81%|▊| 67/83 [00:30<00:07,  2.16it/s]"
     ]
    },
    {
     "name": "stdout",
     "output_type": "stream",
     "text": [
      "Error while processing route for Industrial Estate to ANFA Football Ground (south)\n",
      ": 'NoneType' object is not iterable\n"
     ]
    },
    {
     "name": "stderr",
     "output_type": "stream",
     "text": [
      "Calculating Routes for Industrial Estate:  82%|▊| 68/83 [00:30<00:06,  2.38it/s]"
     ]
    },
    {
     "name": "stdout",
     "output_type": "stream",
     "text": [
      "Error while processing route for Industrial Estate to Airport Central Dojo: 'NoneType' object is not iterable\n"
     ]
    },
    {
     "name": "stderr",
     "output_type": "stream",
     "text": [
      "Calculating Routes for Industrial Estate:  83%|▊| 69/83 [00:31<00:06,  2.11it/s]"
     ]
    },
    {
     "name": "stdout",
     "output_type": "stream",
     "text": [
      "Error while processing route for Industrial Estate to ANFA Football Ground (north)\n",
      ": 'NoneType' object is not iterable\n"
     ]
    },
    {
     "name": "stderr",
     "output_type": "stream",
     "text": [
      "Calculating Routes for Industrial Estate:  84%|▊| 70/83 [00:31<00:05,  2.35it/s]"
     ]
    },
    {
     "name": "stdout",
     "output_type": "stream",
     "text": [
      "Error while processing route for Industrial Estate to UN Park Jwagal\n",
      ": 'NoneType' object is not iterable\n"
     ]
    },
    {
     "name": "stderr",
     "output_type": "stream",
     "text": [
      "Calculating Routes for Industrial Estate:  86%|▊| 71/83 [00:32<00:05,  2.08it/s]"
     ]
    },
    {
     "name": "stdout",
     "output_type": "stream",
     "text": [
      "Error while processing route for Industrial Estate to Tin Kune\n",
      ": 'NoneType' object is not iterable\n"
     ]
    },
    {
     "name": "stderr",
     "output_type": "stream",
     "text": [
      "Calculating Routes for Industrial Estate:  87%|▊| 72/83 [00:32<00:04,  2.33it/s]"
     ]
    },
    {
     "name": "stdout",
     "output_type": "stream",
     "text": [
      "Error while processing route for Industrial Estate to Narayan Chaur: 'NoneType' object is not iterable\n"
     ]
    },
    {
     "name": "stderr",
     "output_type": "stream",
     "text": [
      "Calculating Routes for Industrial Estate:  88%|▉| 73/83 [00:32<00:03,  2.53it/s]"
     ]
    },
    {
     "name": "stdout",
     "output_type": "stream",
     "text": [
      "Error while processing route for Industrial Estate to Civil Aviation 3\n",
      ": 'NoneType' object is not iterable\n"
     ]
    },
    {
     "name": "stderr",
     "output_type": "stream",
     "text": [
      "Calculating Routes for Industrial Estate:  89%|▉| 74/83 [00:33<00:04,  2.19it/s]"
     ]
    },
    {
     "name": "stdout",
     "output_type": "stream",
     "text": [
      "Error while processing route for Industrial Estate to Golf club site (royal)/airport\n",
      ": 'NoneType' object is not iterable\n"
     ]
    },
    {
     "name": "stderr",
     "output_type": "stream",
     "text": [
      "Calculating Routes for Industrial Estate:  90%|▉| 75/83 [00:33<00:03,  2.42it/s]"
     ]
    },
    {
     "name": "stdout",
     "output_type": "stream",
     "text": [
      "Error while processing route for Industrial Estate to Himal Cement Company\n",
      ": 'NoneType' object is not iterable\n"
     ]
    },
    {
     "name": "stderr",
     "output_type": "stream",
     "text": [
      "Calculating Routes for Industrial Estate:  92%|▉| 76/83 [00:34<00:03,  2.13it/s]"
     ]
    },
    {
     "name": "stdout",
     "output_type": "stream",
     "text": [
      "Error while processing route for Industrial Estate to Social Welfare Council\n",
      ": 'NoneType' object is not iterable\n"
     ]
    },
    {
     "name": "stderr",
     "output_type": "stream",
     "text": [
      "Calculating Routes for Industrial Estate:  93%|▉| 77/83 [00:34<00:02,  2.37it/s]"
     ]
    },
    {
     "name": "stdout",
     "output_type": "stream",
     "text": [
      "Error while processing route for Industrial Estate to Ringroad Satdobato Ekantakuna: 'NoneType' object is not iterable\n"
     ]
    },
    {
     "name": "stderr",
     "output_type": "stream",
     "text": [
      "Calculating Routes for Industrial Estate:  94%|▉| 78/83 [00:35<00:02,  2.11it/s]"
     ]
    },
    {
     "name": "stdout",
     "output_type": "stream",
     "text": [
      "Error while processing route for Industrial Estate to Ringroad Maharajgunj Chabahil: 'NoneType' object is not iterable\n"
     ]
    },
    {
     "name": "stderr",
     "output_type": "stream",
     "text": [
      "Calculating Routes for Industrial Estate:  95%|▉| 79/83 [00:35<00:01,  2.35it/s]"
     ]
    },
    {
     "name": "stdout",
     "output_type": "stream",
     "text": [
      "Error while processing route for Industrial Estate to Ringroad Maharajgunj Balaju: 'NoneType' object is not iterable\n"
     ]
    },
    {
     "name": "stderr",
     "output_type": "stream",
     "text": [
      "Calculating Routes for Industrial Estate:  96%|▉| 80/83 [00:36<00:01,  2.09it/s]"
     ]
    },
    {
     "name": "stdout",
     "output_type": "stream",
     "text": [
      "Error while processing route for Industrial Estate to Ringroad Gwarko Satdobato: 'NoneType' object is not iterable\n"
     ]
    },
    {
     "name": "stderr",
     "output_type": "stream",
     "text": [
      "Calculating Routes for Industrial Estate:  98%|▉| 81/83 [00:36<00:00,  2.34it/s]"
     ]
    },
    {
     "name": "stdout",
     "output_type": "stream",
     "text": [
      "Error while processing route for Industrial Estate to Ringroad Ekantakuna Balkhu: 'NoneType' object is not iterable\n"
     ]
    },
    {
     "name": "stderr",
     "output_type": "stream",
     "text": [
      "Calculating Routes for Industrial Estate:  99%|▉| 82/83 [00:36<00:00,  2.53it/s]"
     ]
    },
    {
     "name": "stdout",
     "output_type": "stream",
     "text": [
      "Error while processing route for Industrial Estate to Ringroad Balkumari Gwarko: 'NoneType' object is not iterable\n"
     ]
    },
    {
     "name": "stderr",
     "output_type": "stream",
     "text": [
      "Calculating Routes for Industrial Estate: 100%|█| 83/83 [00:37<00:00,  2.23it/s]\n"
     ]
    },
    {
     "name": "stdout",
     "output_type": "stream",
     "text": [
      "Error while processing route for Industrial Estate to Ringroad Balaju Kalanki: 'NoneType' object is not iterable\n",
      "Assigning CRS to a GeoDataFrame without a geometry column is not supported. Supply geometry using the 'geometry=' keyword argument, or by providing a DataFrame with column name 'geometry'\n",
      "Routing for settlement Baluwatar. Please wait...\n"
     ]
    },
    {
     "name": "stderr",
     "output_type": "stream",
     "text": [
      "Calculating Routes for Baluwatar: 100%|█████████| 83/83 [00:42<00:00,  1.95it/s]\n"
     ]
    },
    {
     "name": "stdout",
     "output_type": "stream",
     "text": [
      "Saved routes for Baluwatar to Baluwatar_routes.geojson\n",
      "Routing for settlement Mahangkalphant. Please wait...\n"
     ]
    },
    {
     "name": "stderr",
     "output_type": "stream",
     "text": [
      "Calculating Routes for Mahangkalphant: 100%|████| 83/83 [00:43<00:00,  1.90it/s]\n"
     ]
    },
    {
     "name": "stdout",
     "output_type": "stream",
     "text": [
      "Saved routes for Mahangkalphant to Mahangkalphant_routes.geojson\n",
      "Routing for settlement Samakhusi. Please wait...\n"
     ]
    },
    {
     "name": "stderr",
     "output_type": "stream",
     "text": [
      "Calculating Routes for Samakhusi: 100%|█████████| 83/83 [00:43<00:00,  1.91it/s]\n"
     ]
    },
    {
     "name": "stdout",
     "output_type": "stream",
     "text": [
      "Saved routes for Samakhusi to Samakhusi_routes.geojson\n",
      "Routing for settlement Balgangaghat. Please wait...\n"
     ]
    },
    {
     "name": "stderr",
     "output_type": "stream",
     "text": [
      "Calculating Routes for Balgangaghat: 100%|██████| 83/83 [00:42<00:00,  1.94it/s]\n"
     ]
    },
    {
     "name": "stdout",
     "output_type": "stream",
     "text": [
      "Saved routes for Balgangaghat to Balgangaghat_routes.geojson\n",
      "Routing for settlement Phulbari. Please wait...\n"
     ]
    },
    {
     "name": "stderr",
     "output_type": "stream",
     "text": [
      "Calculating Routes for Phulbari: 100%|██████████| 83/83 [00:44<00:00,  1.85it/s]\n"
     ]
    },
    {
     "name": "stdout",
     "output_type": "stream",
     "text": [
      "Saved routes for Phulbari to Phulbari_routes.geojson\n",
      "Routing for settlement Bauddha Mahangkal. Please wait...\n"
     ]
    },
    {
     "name": "stderr",
     "output_type": "stream",
     "text": [
      "Calculating Routes for Bauddha Mahangkal: 100%|█| 83/83 [00:42<00:00,  1.97it/s]\n"
     ]
    },
    {
     "name": "stdout",
     "output_type": "stream",
     "text": [
      "Saved routes for Bauddha Mahangkal to Bauddha Mahangkal_routes.geojson\n",
      "Routing for settlement Banasthali. Please wait...\n"
     ]
    },
    {
     "name": "stderr",
     "output_type": "stream",
     "text": [
      "Calculating Routes for Banasthali: 100%|████████| 83/83 [00:42<00:00,  1.93it/s]\n"
     ]
    },
    {
     "name": "stdout",
     "output_type": "stream",
     "text": [
      "Saved routes for Banasthali to Banasthali_routes.geojson\n",
      "Routing for settlement Gumba. Please wait...\n"
     ]
    },
    {
     "name": "stderr",
     "output_type": "stream",
     "text": [
      "Calculating Routes for Gumba: 100%|█████████████| 83/83 [00:43<00:00,  1.90it/s]\n"
     ]
    },
    {
     "name": "stdout",
     "output_type": "stream",
     "text": [
      "Saved routes for Gumba to Gumba_routes.geojson\n",
      "Routing for settlement Chandol. Please wait...\n"
     ]
    },
    {
     "name": "stderr",
     "output_type": "stream",
     "text": [
      "Calculating Routes for Chandol: 100%|███████████| 83/83 [00:42<00:00,  1.95it/s]\n"
     ]
    },
    {
     "name": "stdout",
     "output_type": "stream",
     "text": [
      "Saved routes for Chandol to Chandol_routes.geojson\n",
      "Routing for settlement Nayan Bajar. Please wait...\n"
     ]
    },
    {
     "name": "stderr",
     "output_type": "stream",
     "text": [
      "Calculating Routes for Nayan Bajar: 100%|███████| 83/83 [00:42<00:00,  1.97it/s]\n"
     ]
    },
    {
     "name": "stdout",
     "output_type": "stream",
     "text": [
      "Saved routes for Nayan Bajar to Nayan Bajar_routes.geojson\n",
      "Routing for settlement Bauddha. Please wait...\n"
     ]
    },
    {
     "name": "stderr",
     "output_type": "stream",
     "text": [
      "Calculating Routes for Bauddha: 100%|███████████| 83/83 [00:43<00:00,  1.93it/s]\n"
     ]
    },
    {
     "name": "stdout",
     "output_type": "stream",
     "text": [
      "Saved routes for Bauddha to Bauddha_routes.geojson\n",
      "Routing for settlement Bishalnagar. Please wait...\n"
     ]
    },
    {
     "name": "stderr",
     "output_type": "stream",
     "text": [
      "Calculating Routes for Bishalnagar: 100%|███████| 83/83 [00:43<00:00,  1.89it/s]\n"
     ]
    },
    {
     "name": "stdout",
     "output_type": "stream",
     "text": [
      "Saved routes for Bishalnagar to Bishalnagar_routes.geojson\n",
      "Routing for settlement Tusal. Please wait...\n"
     ]
    },
    {
     "name": "stderr",
     "output_type": "stream",
     "text": [
      "Calculating Routes for Tusal: 100%|█████████████| 83/83 [00:42<00:00,  1.97it/s]\n"
     ]
    },
    {
     "name": "stdout",
     "output_type": "stream",
     "text": [
      "Saved routes for Tusal to Tusal_routes.geojson\n",
      "Routing for settlement Lajimpat. Please wait...\n"
     ]
    },
    {
     "name": "stderr",
     "output_type": "stream",
     "text": [
      "Calculating Routes for Lajimpat: 100%|██████████| 83/83 [00:41<00:00,  2.01it/s]\n"
     ]
    },
    {
     "name": "stdout",
     "output_type": "stream",
     "text": [
      "Saved routes for Lajimpat to Lajimpat_routes.geojson\n",
      "Routing for settlement Taragaun. Please wait...\n"
     ]
    },
    {
     "name": "stderr",
     "output_type": "stream",
     "text": [
      "Calculating Routes for Taragaun: 100%|██████████| 83/83 [00:42<00:00,  1.96it/s]\n"
     ]
    },
    {
     "name": "stdout",
     "output_type": "stream",
     "text": [
      "Saved routes for Taragaun to Taragaun_routes.geojson\n",
      "Routing for settlement Bhatbhateni. Please wait...\n"
     ]
    },
    {
     "name": "stderr",
     "output_type": "stream",
     "text": [
      "Calculating Routes for Bhatbhateni: 100%|███████| 83/83 [00:41<00:00,  2.00it/s]\n"
     ]
    },
    {
     "name": "stdout",
     "output_type": "stream",
     "text": [
      "Saved routes for Bhatbhateni to Bhatbhateni_routes.geojson\n",
      "Routing for settlement Swayambhu. Please wait...\n"
     ]
    },
    {
     "name": "stderr",
     "output_type": "stream",
     "text": [
      "Calculating Routes for Swayambhu: 100%|█████████| 83/83 [00:42<00:00,  1.94it/s]\n"
     ]
    },
    {
     "name": "stdout",
     "output_type": "stream",
     "text": [
      "Saved routes for Swayambhu to Swayambhu_routes.geojson\n",
      "Routing for settlement Lainchaur. Please wait...\n"
     ]
    },
    {
     "name": "stderr",
     "output_type": "stream",
     "text": [
      "Calculating Routes for Lainchaur: 100%|█████████| 83/83 [00:42<00:00,  1.97it/s]\n"
     ]
    },
    {
     "name": "stdout",
     "output_type": "stream",
     "text": [
      "Saved routes for Lainchaur to Lainchaur_routes.geojson\n",
      "Routing for settlement Kumaristhan. Please wait...\n"
     ]
    },
    {
     "name": "stderr",
     "output_type": "stream",
     "text": [
      "Calculating Routes for Kumaristhan: 100%|███████| 83/83 [00:42<00:00,  1.94it/s]\n"
     ]
    },
    {
     "name": "stdout",
     "output_type": "stream",
     "text": [
      "Saved routes for Kumaristhan to Kumaristhan_routes.geojson\n",
      "Routing for settlement Sorhakhutte. Please wait...\n"
     ]
    },
    {
     "name": "stderr",
     "output_type": "stream",
     "text": [
      "Calculating Routes for Sorhakhutte: 100%|███████| 83/83 [00:41<00:00,  1.98it/s]\n"
     ]
    },
    {
     "name": "stdout",
     "output_type": "stream",
     "text": [
      "Saved routes for Sorhakhutte to Sorhakhutte_routes.geojson\n",
      "Routing for settlement Khusibu. Please wait...\n"
     ]
    },
    {
     "name": "stderr",
     "output_type": "stream",
     "text": [
      "Calculating Routes for Khusibu: 100%|███████████| 83/83 [00:42<00:00,  1.97it/s]\n"
     ]
    },
    {
     "name": "stdout",
     "output_type": "stream",
     "text": [
      "Saved routes for Khusibu to Khusibu_routes.geojson\n",
      "Routing for settlement Handigaun. Please wait...\n"
     ]
    },
    {
     "name": "stderr",
     "output_type": "stream",
     "text": [
      "Calculating Routes for Handigaun: 100%|█████████| 83/83 [00:41<00:00,  2.00it/s]\n"
     ]
    },
    {
     "name": "stdout",
     "output_type": "stream",
     "text": [
      "Saved routes for Handigaun to Handigaun_routes.geojson\n",
      "Routing for settlement Chabahil. Please wait...\n"
     ]
    },
    {
     "name": "stderr",
     "output_type": "stream",
     "text": [
      "Calculating Routes for Chabahil: 100%|██████████| 83/83 [00:41<00:00,  1.99it/s]\n"
     ]
    },
    {
     "name": "stdout",
     "output_type": "stream",
     "text": [
      "Saved routes for Chabahil to Chabahil_routes.geojson\n",
      "Routing for settlement Tangal. Please wait...\n"
     ]
    },
    {
     "name": "stderr",
     "output_type": "stream",
     "text": [
      "Calculating Routes for Tangal: 100%|████████████| 83/83 [00:40<00:00,  2.03it/s]\n"
     ]
    },
    {
     "name": "stdout",
     "output_type": "stream",
     "text": [
      "Saved routes for Tangal to Tangal_routes.geojson\n",
      "Routing for settlement Katubahal. Please wait...\n"
     ]
    },
    {
     "name": "stderr",
     "output_type": "stream",
     "text": [
      "Calculating Routes for Katubahal: 100%|█████████| 83/83 [00:41<00:00,  1.99it/s]\n"
     ]
    },
    {
     "name": "stdout",
     "output_type": "stream",
     "text": [
      "Saved routes for Katubahal to Katubahal_routes.geojson\n",
      "Routing for settlement Paknajol. Please wait...\n"
     ]
    },
    {
     "name": "stderr",
     "output_type": "stream",
     "text": [
      "Calculating Routes for Paknajol: 100%|██████████| 83/83 [00:45<00:00,  1.82it/s]\n"
     ]
    },
    {
     "name": "stdout",
     "output_type": "stream",
     "text": [
      "Saved routes for Paknajol to Paknajol_routes.geojson\n",
      "Routing for settlement Kumarigal. Please wait...\n"
     ]
    },
    {
     "name": "stderr",
     "output_type": "stream",
     "text": [
      "Calculating Routes for Kumarigal: 100%|█████████| 83/83 [00:41<00:00,  1.99it/s]\n"
     ]
    },
    {
     "name": "stdout",
     "output_type": "stream",
     "text": [
      "Saved routes for Kumarigal to Kumarigal_routes.geojson\n",
      "Routing for settlement Narayanhiti Royal Palace. Please wait...\n"
     ]
    },
    {
     "name": "stderr",
     "output_type": "stream",
     "text": [
      "Calculating Routes for Narayanhiti Royal Palace: 100%|█| 83/83 [00:42<00:00,  1.\n"
     ]
    },
    {
     "name": "stdout",
     "output_type": "stream",
     "text": [
      "Saved routes for Narayanhiti Royal Palace to Narayanhiti Royal Palace_routes.geojson\n",
      "Routing for settlement Kaldhara. Please wait...\n"
     ]
    },
    {
     "name": "stderr",
     "output_type": "stream",
     "text": [
      "Calculating Routes for Kaldhara: 100%|██████████| 83/83 [00:43<00:00,  1.90it/s]\n"
     ]
    },
    {
     "name": "stdout",
     "output_type": "stream",
     "text": [
      "Saved routes for Kaldhara to Kaldhara_routes.geojson\n",
      "Routing for settlement Swayambhunath. Please wait...\n"
     ]
    },
    {
     "name": "stderr",
     "output_type": "stream",
     "text": [
      "Calculating Routes for Swayambhunath: 100%|█████| 83/83 [00:44<00:00,  1.87it/s]\n"
     ]
    },
    {
     "name": "stdout",
     "output_type": "stream",
     "text": [
      "Saved routes for Swayambhunath to Swayambhunath_routes.geojson\n",
      "Routing for settlement Thamel. Please wait...\n"
     ]
    },
    {
     "name": "stderr",
     "output_type": "stream",
     "text": [
      "Calculating Routes for Thamel: 100%|████████████| 83/83 [00:41<00:00,  2.02it/s]\n"
     ]
    },
    {
     "name": "stdout",
     "output_type": "stream",
     "text": [
      "Saved routes for Thamel to Thamel_routes.geojson\n",
      "Routing for settlement Sobhabhagawati. Please wait...\n"
     ]
    },
    {
     "name": "stderr",
     "output_type": "stream",
     "text": [
      "Calculating Routes for Sobhabhagawati: 100%|████| 83/83 [00:44<00:00,  1.87it/s]\n"
     ]
    },
    {
     "name": "stdout",
     "output_type": "stream",
     "text": [
      "Saved routes for Sobhabhagawati to Sobhabhagawati_routes.geojson\n",
      "Routing for settlement Dhobichaur. Please wait...\n"
     ]
    },
    {
     "name": "stderr",
     "output_type": "stream",
     "text": [
      "Calculating Routes for Dhobichaur: 100%|████████| 83/83 [00:43<00:00,  1.90it/s]\n"
     ]
    },
    {
     "name": "stdout",
     "output_type": "stream",
     "text": [
      "Saved routes for Dhobichaur to Dhobichaur_routes.geojson\n",
      "Routing for settlement Naksal. Please wait...\n"
     ]
    },
    {
     "name": "stderr",
     "output_type": "stream",
     "text": [
      "Calculating Routes for Naksal: 100%|████████████| 83/83 [00:41<00:00,  1.99it/s]\n"
     ]
    },
    {
     "name": "stdout",
     "output_type": "stream",
     "text": [
      "Saved routes for Naksal to Naksal_routes.geojson\n",
      "Routing for settlement Gaurighat. Please wait...\n"
     ]
    },
    {
     "name": "stderr",
     "output_type": "stream",
     "text": [
      "Calculating Routes for Gaurighat: 100%|█████████| 83/83 [00:41<00:00,  1.98it/s]\n"
     ]
    },
    {
     "name": "stdout",
     "output_type": "stream",
     "text": [
      "Saved routes for Gaurighat to Gaurighat_routes.geojson\n",
      "Routing for settlement Bijeshwari. Please wait...\n"
     ]
    },
    {
     "name": "stderr",
     "output_type": "stream",
     "text": [
      "Calculating Routes for Bijeshwari: 100%|████████| 83/83 [00:42<00:00,  1.96it/s]\n"
     ]
    },
    {
     "name": "stdout",
     "output_type": "stream",
     "text": [
      "Saved routes for Bijeshwari to Bijeshwari_routes.geojson\n",
      "Routing for settlement Dhalko. Please wait...\n"
     ]
    },
    {
     "name": "stderr",
     "output_type": "stream",
     "text": [
      "Calculating Routes for Dhalko: 100%|████████████| 83/83 [00:43<00:00,  1.93it/s]\n"
     ]
    },
    {
     "name": "stdout",
     "output_type": "stream",
     "text": [
      "Saved routes for Dhalko to Dhalko_routes.geojson\n",
      "Routing for settlement Jyatha. Please wait...\n"
     ]
    },
    {
     "name": "stderr",
     "output_type": "stream",
     "text": [
      "Calculating Routes for Jyatha:  65%|███████▊    | 54/83 [00:27<00:15,  1.88it/s]"
     ]
    },
    {
     "name": "stdout",
     "output_type": "stream",
     "text": [
      "Error while processing route for Jyatha to Election Commission Office\n",
      ": IllegalArgumentException: point array must contain 0 or >1 elements\n",
      "\n"
     ]
    },
    {
     "name": "stderr",
     "output_type": "stream",
     "text": [
      "Calculating Routes for Jyatha: 100%|████████████| 83/83 [00:42<00:00,  1.97it/s]\n"
     ]
    },
    {
     "name": "stdout",
     "output_type": "stream",
     "text": [
      "Saved routes for Jyatha to Jyatha_routes.geojson\n",
      "Routing for settlement Chhetrapati. Please wait...\n"
     ]
    },
    {
     "name": "stderr",
     "output_type": "stream",
     "text": [
      "Calculating Routes for Chhetrapati: 100%|███████| 83/83 [00:43<00:00,  1.93it/s]\n"
     ]
    },
    {
     "name": "stdout",
     "output_type": "stream",
     "text": [
      "Saved routes for Chhetrapati to Chhetrapati_routes.geojson\n",
      "Routing for settlement Siphal. Please wait...\n"
     ]
    },
    {
     "name": "stderr",
     "output_type": "stream",
     "text": [
      "Calculating Routes for Siphal: 100%|████████████| 83/83 [00:40<00:00,  2.03it/s]\n"
     ]
    },
    {
     "name": "stdout",
     "output_type": "stream",
     "text": [
      "Saved routes for Siphal to Siphal_routes.geojson\n",
      "Routing for settlement Guhyeshwari. Please wait...\n"
     ]
    },
    {
     "name": "stderr",
     "output_type": "stream",
     "text": [
      "Calculating Routes for Guhyeshwari: 100%|███████| 83/83 [00:40<00:00,  2.03it/s]\n"
     ]
    },
    {
     "name": "stdout",
     "output_type": "stream",
     "text": [
      "Saved routes for Guhyeshwari to Guhyeshwari_routes.geojson\n",
      "Routing for settlement Pashupatinath. Please wait...\n"
     ]
    },
    {
     "name": "stderr",
     "output_type": "stream",
     "text": [
      "Calculating Routes for Pashupatinath: 100%|█████| 83/83 [24:47<00:00, 17.93s/it]\n"
     ]
    },
    {
     "name": "stdout",
     "output_type": "stream",
     "text": [
      "Saved routes for Pashupatinath to Pashupatinath_routes.geojson\n",
      "Routing for settlement Aryaghat. Please wait...\n"
     ]
    },
    {
     "name": "stderr",
     "output_type": "stream",
     "text": [
      "Calculating Routes for Aryaghat: 100%|██████████| 83/83 [00:35<00:00,  2.35it/s]\n"
     ]
    },
    {
     "name": "stdout",
     "output_type": "stream",
     "text": [
      "Saved routes for Aryaghat to Aryaghat_routes.geojson\n",
      "Routing for settlement Bhandarkhal. Please wait...\n"
     ]
    },
    {
     "name": "stderr",
     "output_type": "stream",
     "text": [
      "Calculating Routes for Bhandarkhal:  72%|█████  | 60/83 [00:28<00:10,  2.09it/s]"
     ]
    },
    {
     "name": "stdout",
     "output_type": "stream",
     "text": [
      "Error while processing route for Bhandarkhal to Bhandarkhal\n",
      ": IllegalArgumentException: point array must contain 0 or >1 elements\n",
      "\n"
     ]
    },
    {
     "name": "stderr",
     "output_type": "stream",
     "text": [
      "Calculating Routes for Bhandarkhal: 100%|███████| 83/83 [00:39<00:00,  2.12it/s]\n"
     ]
    },
    {
     "name": "stdout",
     "output_type": "stream",
     "text": [
      "Saved routes for Bhandarkhal to Bhandarkhal_routes.geojson\n",
      "Routing for settlement Jamal. Please wait...\n"
     ]
    },
    {
     "name": "stderr",
     "output_type": "stream",
     "text": [
      "Calculating Routes for Jamal: 100%|█████████████| 83/83 [00:59<00:00,  1.40it/s]\n"
     ]
    },
    {
     "name": "stdout",
     "output_type": "stream",
     "text": [
      "Saved routes for Jamal to Jamal_routes.geojson\n",
      "Routing for settlement Gyaneshwar. Please wait...\n"
     ]
    },
    {
     "name": "stderr",
     "output_type": "stream",
     "text": [
      "Calculating Routes for Gyaneshwar: 100%|████████| 83/83 [01:03<00:00,  1.32it/s]\n"
     ]
    },
    {
     "name": "stdout",
     "output_type": "stream",
     "text": [
      "Saved routes for Gyaneshwar to Gyaneshwar_routes.geojson\n",
      "Routing for settlement Kamaladi. Please wait...\n"
     ]
    },
    {
     "name": "stderr",
     "output_type": "stream",
     "text": [
      "Calculating Routes for Kamaladi:   0%|                   | 0/83 [00:00<?, ?it/s]"
     ]
    }
   ],
   "source": [
    "import os\n",
    "from datetime import datetime\n",
    "import geopandas as gpd\n",
    "from shapely.geometry import Point, LineString\n",
    "\n",
    "# Load obstacle data\n",
    "obstacle_gdf = gpd.read_file('obstacle.geojson')\n",
    "\n",
    "# Print a message to indicate the start of processing\n",
    "print(\"Start processing...\")\n",
    "\n",
    "# Create a list to store edges to remove\n",
    "edges_to_remove = []\n",
    "\n",
    "# Iterate over each obstacle\n",
    "for idx, obstacle in obstacle_gdf.iterrows():\n",
    "    # Iterate over each edge in the road network\n",
    "    for u, v, data in list(G.edges(data=True)):\n",
    "        # Get the coordinates of the nodes (start and end points of the edge)\n",
    "        start_point = Point(G.nodes[u]['x'], G.nodes[u]['y'])\n",
    "        end_point = Point(G.nodes[v]['x'], G.nodes[v]['y'])\n",
    "        \n",
    "        road_segment = LineString([start_point, end_point])\n",
    "        \n",
    "        # If the road segment intersects with the obstacle, add the edge to remove list\n",
    "        if road_segment.intersects(obstacle.geometry):\n",
    "            edges_to_remove.append((u, v))\n",
    "\n",
    "# Remove edges from the graph\n",
    "for u, v in edges_to_remove:\n",
    "    G.remove_edge(u, v)\n",
    "\n",
    "# Print a message to indicate the completion of processing obstacles\n",
    "print(\"Obstacle processing complete.\")\n",
    "\n",
    "# Create a directory with current date and time\n",
    "current_datetime = datetime.now().strftime(\"%Y-%m-%d_%H-%M-%S\")\n",
    "directory = f\"obs_routes_{current_datetime}\"\n",
    "os.makedirs(directory)\n",
    "\n",
    "# Print the directory created\n",
    "print(f\"Created directory: {directory}\")\n",
    "\n",
    "\n",
    "for idx, row in gdf_settl.iterrows():\n",
    "    try: \n",
    "        origin_name = row['SETTL_NAME']\n",
    "        origin_lat, origin_lon = row.geometry.centroid.y, row.geometry.centroid.x\n",
    "        orig_coords = (origin_lat, origin_lon)\n",
    "\n",
    "        print(f\"Routing for settlement {origin_name}. Please wait...\")\n",
    "\n",
    "        # Create an empty list to store the route details for this settlement\n",
    "        settlement_routes = []\n",
    "\n",
    "        for index, row in tqdm(gdf_open_space.iterrows(), total=len(gdf_open_space), desc=f'Calculating Routes for {origin_name}'):\n",
    "            dest_name = row['Name']\n",
    "            dest_coords = (row['geometry'].centroid.y, row['geometry'].centroid.x)\n",
    "\n",
    "            try:\n",
    "                # Find the nearest network nodes to the specified coordinates\n",
    "                orig_node = ox.distance.nearest_nodes(G, orig_coords[1], orig_coords[0])\n",
    "                dest_node = ox.distance.nearest_nodes(G, dest_coords[1], dest_coords[0])\n",
    "\n",
    "                # Find the shortest path (by distance) between the specified nodes\n",
    "                route = ox.shortest_path(G, orig_node, dest_node, weight=\"travel_time\")\n",
    "\n",
    "                # Convert the route to a LineString geometry\n",
    "                route_line = LineString([(G.nodes[u]['x'], G.nodes[u]['y']) for u in route])\n",
    "\n",
    "                # Calculate the length of the route\n",
    "                route_length = int(sum(ox.utils_graph.route_to_gdf(G, route, \"length\")[\"length\"]))\n",
    "                route_time = int(sum(ox.utils_graph.route_to_gdf(G, route, \"travel_time\")[\"travel_time\"]))\n",
    "\n",
    "                # Convert route_time to minutes\n",
    "                route_time_minutes = route_time / 60\n",
    "\n",
    "                # Add the route details to the list of route details\n",
    "                route_details = {\n",
    "                    'origin': origin_name,\n",
    "                    'destination': dest_name,\n",
    "                    'length': route_length,\n",
    "                    'travel_time': route_time_minutes,\n",
    "                    'geometry': route_line\n",
    "                }\n",
    "                settlement_routes.append(route_details)\n",
    "\n",
    "            except Exception as e:\n",
    "                print(f\"Error while processing route for {origin_name} to {dest_name}: {str(e)}\")\n",
    "                continue  # Continue to the next destination\n",
    "\n",
    "        # Create a GeoDataFrame from the list of route details\n",
    "        settlement_routes_gdf = gpd.GeoDataFrame(settlement_routes, crs=gdf_settl.crs)\n",
    "\n",
    "        # Save routes for this settlement to a GeoJSON file in the directory\n",
    "        filename = f\"{origin_name}_routes.geojson\"\n",
    "        settlement_routes_gdf.to_file(os.path.join(directory, filename), driver='GeoJSON')\n",
    "        print(f\"Saved routes for {origin_name} to {filename}\")\n",
    "    except Exception as e:\n",
    "        print(e)\n",
    "        continue\n",
    "# Print a message to indicate the end of processing\n",
    "print(\"Processing complete.\")\n"
   ]
  },
  {
   "cell_type": "code",
   "execution_count": null,
   "id": "309e0091-e07c-45af-afdd-18cfbd7d2307",
   "metadata": {},
   "outputs": [],
   "source": []
  }
 ],
 "metadata": {
  "kernelspec": {
   "display_name": "Python 3 (ipykernel)",
   "language": "python",
   "name": "python3"
  },
  "language_info": {
   "codemirror_mode": {
    "name": "ipython",
    "version": 3
   },
   "file_extension": ".py",
   "mimetype": "text/x-python",
   "name": "python",
   "nbconvert_exporter": "python",
   "pygments_lexer": "ipython3",
   "version": "3.11.5"
  }
 },
 "nbformat": 4,
 "nbformat_minor": 5
}
